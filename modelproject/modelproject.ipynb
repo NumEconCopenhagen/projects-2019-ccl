{
 "cells": [
  {
   "cell_type": "markdown",
   "metadata": {},
   "source": [
    "# Mandatory assignment 2: Solow growth model with human capital\n",
    "Vision: Programming is more than writing code. The ultimate goal of the projects in this course\n",
    "is that you learn to formulate a programming problem of your own choice, and find your own way\n",
    "to solve it, and present the results. The bullets below are minimum requirements, but otherwise it is\n",
    "very much up to you, what yo\n",
    "\n",
    "* **Step 1: Package import:** The first part of code in our project is the use of libraries with essential packages of panda, numpy and glob which is respectively for data structuring and especially arrays and pathnames. On top of that we import statsmodel"
   ]
  },
  {
   "cell_type": "code",
   "execution_count": 30,
   "metadata": {},
   "outputs": [],
   "source": [
    "import pandas as pd\n",
    "import matplotlib.pyplot as plt\n",
    "import numpy as np\n",
    "\n",
    "from scipy.stats import trim_mean, kurtosis\n",
    "from scipy.stats.mstats import mode, gmean, hmean\n",
    "from IPython.display import display\n",
    "import statsmodels.api as sm\n",
    "import statsmodels.formula.api as smf"
   ]
  },
  {
   "cell_type": "markdown",
   "metadata": {},
   "source": [
    "* **Step 2: Datapath and data processing:** Our data p"
   ]
  },
  {
   "cell_type": "code",
   "execution_count": 41,
   "metadata": {},
   "outputs": [
    {
     "data": {
      "text/html": [
       "<div>\n",
       "<style scoped>\n",
       "    .dataframe tbody tr th:only-of-type {\n",
       "        vertical-align: middle;\n",
       "    }\n",
       "\n",
       "    .dataframe tbody tr th {\n",
       "        vertical-align: top;\n",
       "    }\n",
       "\n",
       "    .dataframe thead th {\n",
       "        text-align: right;\n",
       "    }\n",
       "</style>\n",
       "<table border=\"1\" class=\"dataframe\">\n",
       "  <thead>\n",
       "    <tr style=\"text-align: right;\">\n",
       "      <th>14</th>\n",
       "      <th>Country</th>\n",
       "      <th>Code</th>\n",
       "      <th>y03</th>\n",
       "      <th>y60</th>\n",
       "      <th>gy</th>\n",
       "      <th>sK</th>\n",
       "      <th>sH</th>\n",
       "      <th>u</th>\n",
       "      <th>isi</th>\n",
       "      <th>n</th>\n",
       "      <th>Grade</th>\n",
       "      <th>In Sample of 65</th>\n",
       "    </tr>\n",
       "  </thead>\n",
       "  <tbody>\n",
       "    <tr>\n",
       "      <th>15</th>\n",
       "      <td>Luxembourg</td>\n",
       "      <td>LUX</td>\n",
       "      <td>1.73518</td>\n",
       "      <td>0.966286</td>\n",
       "      <td>0.0313231</td>\n",
       "      <td>0.255914</td>\n",
       "      <td>-</td>\n",
       "      <td>-</td>\n",
       "      <td>0.9</td>\n",
       "      <td>0.00836579</td>\n",
       "      <td>A</td>\n",
       "      <td>0</td>\n",
       "    </tr>\n",
       "    <tr>\n",
       "      <th>16</th>\n",
       "      <td>USA</td>\n",
       "      <td>USA</td>\n",
       "      <td>1</td>\n",
       "      <td>1</td>\n",
       "      <td>0.017709</td>\n",
       "      <td>0.189912</td>\n",
       "      <td>0.115346</td>\n",
       "      <td>12.049</td>\n",
       "      <td>0.97333</td>\n",
       "      <td>0.0160803</td>\n",
       "      <td>A</td>\n",
       "      <td>1</td>\n",
       "    </tr>\n",
       "    <tr>\n",
       "      <th>17</th>\n",
       "      <td>Ireland</td>\n",
       "      <td>IRL</td>\n",
       "      <td>0.971402</td>\n",
       "      <td>0.423321</td>\n",
       "      <td>0.0370255</td>\n",
       "      <td>0.209641</td>\n",
       "      <td>0.125219</td>\n",
       "      <td>9.351</td>\n",
       "      <td>0.76672</td>\n",
       "      <td>0.0100189</td>\n",
       "      <td>A</td>\n",
       "      <td>1</td>\n",
       "    </tr>\n",
       "    <tr>\n",
       "      <th>18</th>\n",
       "      <td>Norway</td>\n",
       "      <td>NOR</td>\n",
       "      <td>0.968075</td>\n",
       "      <td>0.761374</td>\n",
       "      <td>0.0232946</td>\n",
       "      <td>0.283681</td>\n",
       "      <td>0.103698</td>\n",
       "      <td>11.848</td>\n",
       "      <td>0.87272</td>\n",
       "      <td>0.0122046</td>\n",
       "      <td>A</td>\n",
       "      <td>1</td>\n",
       "    </tr>\n",
       "    <tr>\n",
       "      <th>19</th>\n",
       "      <td>Belgium</td>\n",
       "      <td>BEL</td>\n",
       "      <td>0.906815</td>\n",
       "      <td>0.66365</td>\n",
       "      <td>0.024969</td>\n",
       "      <td>0.224658</td>\n",
       "      <td>0.101057</td>\n",
       "      <td>9.338</td>\n",
       "      <td>0.86572</td>\n",
       "      <td>0.00450328</td>\n",
       "      <td>A</td>\n",
       "      <td>1</td>\n",
       "    </tr>\n",
       "  </tbody>\n",
       "</table>\n",
       "</div>"
      ],
      "text/plain": [
       "14     Country Code       y03       y60         gy        sK        sH  \\\n",
       "15  Luxembourg  LUX   1.73518  0.966286  0.0313231  0.255914         -   \n",
       "16         USA  USA         1         1   0.017709  0.189912  0.115346   \n",
       "17     Ireland  IRL  0.971402  0.423321  0.0370255  0.209641  0.125219   \n",
       "18      Norway  NOR  0.968075  0.761374  0.0232946  0.283681  0.103698   \n",
       "19     Belgium  BEL  0.906815   0.66365   0.024969  0.224658  0.101057   \n",
       "\n",
       "14       u      isi           n Grade In Sample of 65  \n",
       "15       -      0.9  0.00836579     A               0  \n",
       "16  12.049  0.97333   0.0160803     A               1  \n",
       "17   9.351  0.76672   0.0100189     A               1  \n",
       "18  11.848  0.87272   0.0122046     A               1  \n",
       "19   9.338  0.86572  0.00450328     A               1  "
      ]
     },
     "execution_count": 41,
     "metadata": {},
     "output_type": "execute_result"
    }
   ],
   "source": [
    "#Set datapath \n",
    "datapath = \"Dataset/\"\n",
    "data = pd.read_excel(datapath + \"APPENDIX_TableA_SECOND_ED-7.xls\")\n",
    "\n",
    "#Remove unnecessary rows\n",
    "data=data[14:-18]\n",
    "#Remove unnecessary columns\n",
    "data = data.iloc[:, :-3]\n",
    "\n",
    "#Mark/select first row\n",
    "new_header = data.iloc[0]\n",
    "#all data below first row\n",
    "data = data[1:] \n",
    "#use all data below first row and set column names equal new_header\n",
    "data.columns = new_header\n",
    "\n",
    "data.rename(columns = {list(data)[0]:\"Country\"}, inplace=True)\n",
    "                                                    \n",
    "data.head()"
   ]
  },
  {
   "cell_type": "markdown",
   "metadata": {},
   "source": [
    "We now merge data on land per worker and Oil per worker on the above dataset"
   ]
  },
  {
   "cell_type": "code",
   "execution_count": 64,
   "metadata": {},
   "outputs": [
    {
     "data": {
      "text/html": [
       "<div>\n",
       "<style scoped>\n",
       "    .dataframe tbody tr th:only-of-type {\n",
       "        vertical-align: middle;\n",
       "    }\n",
       "\n",
       "    .dataframe tbody tr th {\n",
       "        vertical-align: top;\n",
       "    }\n",
       "\n",
       "    .dataframe thead th {\n",
       "        text-align: right;\n",
       "    }\n",
       "</style>\n",
       "<table border=\"1\" class=\"dataframe\">\n",
       "  <thead>\n",
       "    <tr style=\"text-align: right;\">\n",
       "      <th></th>\n",
       "      <th>Country_x</th>\n",
       "      <th>Code</th>\n",
       "      <th>y03</th>\n",
       "      <th>y60</th>\n",
       "      <th>gy</th>\n",
       "      <th>sK</th>\n",
       "      <th>sH</th>\n",
       "      <th>u</th>\n",
       "      <th>isi</th>\n",
       "      <th>n</th>\n",
       "      <th>Grade</th>\n",
       "      <th>In Sample of 65</th>\n",
       "      <th>Country_y</th>\n",
       "      <th>Land</th>\n",
       "      <th>Subsoil</th>\n",
       "    </tr>\n",
       "  </thead>\n",
       "  <tbody>\n",
       "    <tr>\n",
       "      <th>0</th>\n",
       "      <td>Luxembourg</td>\n",
       "      <td>LUX</td>\n",
       "      <td>1.73518</td>\n",
       "      <td>0.966286</td>\n",
       "      <td>0.0313231</td>\n",
       "      <td>0.255914</td>\n",
       "      <td>-</td>\n",
       "      <td>-</td>\n",
       "      <td>0.9</td>\n",
       "      <td>0.00836579</td>\n",
       "      <td>A</td>\n",
       "      <td>0</td>\n",
       "      <td>Luxembourg</td>\n",
       "      <td>5600.667027</td>\n",
       "      <td>1988.652571</td>\n",
       "    </tr>\n",
       "    <tr>\n",
       "      <th>1</th>\n",
       "      <td>USA</td>\n",
       "      <td>USA</td>\n",
       "      <td>1</td>\n",
       "      <td>1</td>\n",
       "      <td>0.017709</td>\n",
       "      <td>0.189912</td>\n",
       "      <td>0.115346</td>\n",
       "      <td>12.049</td>\n",
       "      <td>0.97333</td>\n",
       "      <td>0.0160803</td>\n",
       "      <td>A</td>\n",
       "      <td>1</td>\n",
       "      <td>United States</td>\n",
       "      <td>4268.678035</td>\n",
       "      <td>8651.206146</td>\n",
       "    </tr>\n",
       "    <tr>\n",
       "      <th>2</th>\n",
       "      <td>Ireland</td>\n",
       "      <td>IRL</td>\n",
       "      <td>0.971402</td>\n",
       "      <td>0.423321</td>\n",
       "      <td>0.0370255</td>\n",
       "      <td>0.209641</td>\n",
       "      <td>0.125219</td>\n",
       "      <td>9.351</td>\n",
       "      <td>0.76672</td>\n",
       "      <td>0.0100189</td>\n",
       "      <td>A</td>\n",
       "      <td>1</td>\n",
       "      <td>Ireland</td>\n",
       "      <td>11973.825063</td>\n",
       "      <td>367.476245</td>\n",
       "    </tr>\n",
       "    <tr>\n",
       "      <th>3</th>\n",
       "      <td>Norway</td>\n",
       "      <td>NOR</td>\n",
       "      <td>0.968075</td>\n",
       "      <td>0.761374</td>\n",
       "      <td>0.0232946</td>\n",
       "      <td>0.283681</td>\n",
       "      <td>0.103698</td>\n",
       "      <td>11.848</td>\n",
       "      <td>0.87272</td>\n",
       "      <td>0.0122046</td>\n",
       "      <td>A</td>\n",
       "      <td>1</td>\n",
       "      <td>Norway</td>\n",
       "      <td>6372.783293</td>\n",
       "      <td>83250.768105</td>\n",
       "    </tr>\n",
       "    <tr>\n",
       "      <th>4</th>\n",
       "      <td>Belgium</td>\n",
       "      <td>BEL</td>\n",
       "      <td>0.906815</td>\n",
       "      <td>0.66365</td>\n",
       "      <td>0.024969</td>\n",
       "      <td>0.224658</td>\n",
       "      <td>0.101057</td>\n",
       "      <td>9.338</td>\n",
       "      <td>0.86572</td>\n",
       "      <td>0.00450328</td>\n",
       "      <td>A</td>\n",
       "      <td>1</td>\n",
       "      <td>Belgium</td>\n",
       "      <td>3986.629803</td>\n",
       "      <td>0.000000</td>\n",
       "    </tr>\n",
       "  </tbody>\n",
       "</table>\n",
       "</div>"
      ],
      "text/plain": [
       "    Country_x Code       y03       y60         gy        sK        sH       u  \\\n",
       "0  Luxembourg  LUX   1.73518  0.966286  0.0313231  0.255914         -       -   \n",
       "1         USA  USA         1         1   0.017709  0.189912  0.115346  12.049   \n",
       "2     Ireland  IRL  0.971402  0.423321  0.0370255  0.209641  0.125219   9.351   \n",
       "3      Norway  NOR  0.968075  0.761374  0.0232946  0.283681  0.103698  11.848   \n",
       "4     Belgium  BEL  0.906815   0.66365   0.024969  0.224658  0.101057   9.338   \n",
       "\n",
       "       isi           n Grade In Sample of 65      Country_y          Land  \\\n",
       "0      0.9  0.00836579     A               0     Luxembourg   5600.667027   \n",
       "1  0.97333   0.0160803     A               1  United States   4268.678035   \n",
       "2  0.76672   0.0100189     A               1        Ireland  11973.825063   \n",
       "3  0.87272   0.0122046     A               1         Norway   6372.783293   \n",
       "4  0.86572  0.00450328     A               1        Belgium   3986.629803   \n",
       "\n",
       "        Subsoil  \n",
       "0   1988.652571  \n",
       "1   8651.206146  \n",
       "2    367.476245  \n",
       "3  83250.768105  \n",
       "4      0.000000  "
      ]
     },
     "execution_count": 64,
     "metadata": {},
     "output_type": "execute_result"
    }
   ],
   "source": [
    "datapath1 = \"Dataset/\"\n",
    "data1 = pd.read_excel(datapath1 + \"Natural_resources_the_world_bank.xlsx\")\n",
    "\n",
    "data3 = pd.merge(data, data1, on=\"Code\")\n",
    "\n",
    "data3.head()"
   ]
  },
  {
   "cell_type": "code",
   "execution_count": 58,
   "metadata": {},
   "outputs": [
    {
     "name": "stdout",
     "output_type": "stream",
     "text": [
      "\n",
      "Table 1: Dads\n"
     ]
    },
    {
     "data": {
      "text/html": [
       "<div>\n",
       "<style scoped>\n",
       "    .dataframe tbody tr th:only-of-type {\n",
       "        vertical-align: middle;\n",
       "    }\n",
       "\n",
       "    .dataframe tbody tr th {\n",
       "        vertical-align: top;\n",
       "    }\n",
       "\n",
       "    .dataframe thead th {\n",
       "        text-align: right;\n",
       "    }\n",
       "</style>\n",
       "<table border=\"1\" class=\"dataframe\">\n",
       "  <thead>\n",
       "    <tr style=\"text-align: right;\">\n",
       "      <th></th>\n",
       "      <th>Country_x</th>\n",
       "      <th>y03</th>\n",
       "      <th>y60</th>\n",
       "      <th>gy</th>\n",
       "      <th>sK</th>\n",
       "      <th>sH</th>\n",
       "      <th>n</th>\n",
       "      <th>Grade</th>\n",
       "      <th>Land</th>\n",
       "      <th>Subsoil</th>\n",
       "    </tr>\n",
       "  </thead>\n",
       "  <tbody>\n",
       "    <tr>\n",
       "      <th>1</th>\n",
       "      <td>USA</td>\n",
       "      <td>1.0</td>\n",
       "      <td>1.0</td>\n",
       "      <td>0.017709</td>\n",
       "      <td>0.189912</td>\n",
       "      <td>0.115346</td>\n",
       "      <td>0.01608</td>\n",
       "      <td>A</td>\n",
       "      <td>4268.678035</td>\n",
       "      <td>8651.206146</td>\n",
       "    </tr>\n",
       "  </tbody>\n",
       "</table>\n",
       "</div>"
      ],
      "text/plain": [
       "  Country_x  y03  y60        gy        sK        sH        n Grade  \\\n",
       "1       USA  1.0  1.0  0.017709  0.189912  0.115346  0.01608     A   \n",
       "\n",
       "          Land      Subsoil  \n",
       "1  4268.678035  8651.206146  "
      ]
     },
     "metadata": {},
     "output_type": "display_data"
    },
    {
     "name": "stdout",
     "output_type": "stream",
     "text": [
      "\n",
      "Table 2: sadsaadads \n"
     ]
    },
    {
     "data": {
      "text/html": [
       "<div>\n",
       "<style scoped>\n",
       "    .dataframe tbody tr th:only-of-type {\n",
       "        vertical-align: middle;\n",
       "    }\n",
       "\n",
       "    .dataframe tbody tr th {\n",
       "        vertical-align: top;\n",
       "    }\n",
       "\n",
       "    .dataframe thead th {\n",
       "        text-align: right;\n",
       "    }\n",
       "</style>\n",
       "<table border=\"1\" class=\"dataframe\">\n",
       "  <thead>\n",
       "    <tr style=\"text-align: right;\">\n",
       "      <th></th>\n",
       "      <th>Country_x</th>\n",
       "      <th>y03</th>\n",
       "      <th>y60</th>\n",
       "      <th>gy</th>\n",
       "      <th>sK</th>\n",
       "      <th>sH</th>\n",
       "      <th>n</th>\n",
       "      <th>Grade</th>\n",
       "      <th>Land</th>\n",
       "      <th>Subsoil</th>\n",
       "    </tr>\n",
       "  </thead>\n",
       "  <tbody>\n",
       "    <tr>\n",
       "      <th>82</th>\n",
       "      <td>Burundi</td>\n",
       "      <td>0.021141</td>\n",
       "      <td>0.037568</td>\n",
       "      <td>0.004339</td>\n",
       "      <td>0.038041</td>\n",
       "      <td>0.005237</td>\n",
       "      <td>0.016599</td>\n",
       "      <td>C</td>\n",
       "      <td>4316.30786</td>\n",
       "      <td>14.902135</td>\n",
       "    </tr>\n",
       "  </tbody>\n",
       "</table>\n",
       "</div>"
      ],
      "text/plain": [
       "   Country_x       y03       y60        gy        sK        sH         n  \\\n",
       "82   Burundi  0.021141  0.037568  0.004339  0.038041  0.005237  0.016599   \n",
       "\n",
       "   Grade        Land    Subsoil  \n",
       "82     C  4316.30786  14.902135  "
      ]
     },
     "metadata": {},
     "output_type": "display_data"
    }
   ],
   "source": [
    "DataDescribe=data3\n",
    "DataDescribe = DataDescribe.drop([\"Code\", \"In Sample of 65\", \"u\", \"isi\", \"Country_y\"], 1)\n",
    "\n",
    "DataDescribe=DataDescribe[DataDescribe[\"sH\"] != '   -']\n",
    "\n",
    "\n",
    "DataDescribe[\"y03\"] = DataDescribe.y03.astype(float)\n",
    "DataDescribe[\"y60\"] = DataDescribe.y60.astype(float)\n",
    "DataDescribe[\"gy\"] = DataDescribe.gy.astype(float)\n",
    "DataDescribe[\"sK\"] = DataDescribe.sK.astype(float)\n",
    "DataDescribe[\"n\"] = DataDescribe.n.astype(float)\n",
    "DataDescribe[\"sH\"] = DataDescribe.sH.astype(float)\n",
    "DataDescribe[\"Land\"] = DataDescribe.Land.astype(float)\n",
    "DataDescribe[\"Subsoil\"] = DataDescribe.Subsoil.astype(float)\n",
    "#print(DataDescribe.round(decimals=2))\n",
    "\n",
    "print(\"\")\n",
    "print(\"Table 1: Dads\")\n",
    "max =DataDescribe[DataDescribe.y03 == DataDescribe.y03.max()]\n",
    "display(max.head())\n",
    "\n",
    "print(\"\")\n",
    "print(\"Table 2: sadsaadads \")\n",
    "min =DataDescribe[DataDescribe.y03 == DataDescribe.y03.min()]\n",
    "display(min.head())\n",
    "\n"
   ]
  },
  {
   "cell_type": "code",
   "execution_count": 59,
   "metadata": {},
   "outputs": [
    {
     "name": "stdout",
     "output_type": "stream",
     "text": [
      "ksjdkadadjkd sdd sdsd sddsssdd ads  dasadad dkajd sdadjadsddsak sd jksdljasjkaa sdasd dasa da a dad adadasaddsaadsadad adsasdas dssaad asasd ad\n"
     ]
    },
    {
     "data": {
      "application/vnd.jupyter.widget-view+json": {
       "model_id": "c006c1fd96c342bea6f882a1e40051b2",
       "version_major": 2,
       "version_minor": 0
      },
      "text/plain": [
       "FloatSlider(value=0.33, max=1.0, step=0.01)"
      ]
     },
     "metadata": {},
     "output_type": "display_data"
    },
    {
     "name": "stdout",
     "output_type": "stream",
     "text": [
      "ksjdkadadjkd sdd sdsd sddsssdd ads  dasadad dkajd sdadjadsddsak sd jksdljasjkaa sdasd dasa da a dad adadasaddsaadsadad adsasdas dssaad asasd ad\n"
     ]
    },
    {
     "data": {
      "application/vnd.jupyter.widget-view+json": {
       "model_id": "45e2934505c641f18d2eef9a48dabfc1",
       "version_major": 2,
       "version_minor": 0
      },
      "text/plain": [
       "FloatSlider(value=0.6, max=1.0, step=0.01)"
      ]
     },
     "metadata": {},
     "output_type": "display_data"
    },
    {
     "name": "stdout",
     "output_type": "stream",
     "text": [
      "ksjdkadadjkd sdd sdsd sddsssdd ads  dasadad dkajd sdadjadsddsak sd jksdljasjkaa sdasd dasa da a dad adadasaddsaadsadad adsasdas dssaad asasd ad\n"
     ]
    },
    {
     "data": {
      "application/vnd.jupyter.widget-view+json": {
       "model_id": "f3b372ccd1c24eb9aa607f8e8dcba6c0",
       "version_major": 2,
       "version_minor": 0
      },
      "text/plain": [
       "FloatSlider(value=0.035, max=1.0, step=0.01)"
      ]
     },
     "metadata": {},
     "output_type": "display_data"
    },
    {
     "name": "stdout",
     "output_type": "stream",
     "text": [
      "ksjdkadadjkd sdd sdsd sddsssdd ads  dasadad dkajd sdadjadsddsak sd jksdljasjkaa sdasd dasa da a dad adadasaddsaadsadad adsasdas dssaad asasd ad\n"
     ]
    },
    {
     "data": {
      "application/vnd.jupyter.widget-view+json": {
       "model_id": "50129370c97a45e49ebcdb4337469f4b",
       "version_major": 2,
       "version_minor": 0
      },
      "text/plain": [
       "FloatSlider(value=0.035, max=1.0, step=0.01)"
      ]
     },
     "metadata": {},
     "output_type": "display_data"
    }
   ],
   "source": [
    "from __future__ import print_function\n",
    "from ipywidgets import interact, interactive, fixed, interact_manual\n",
    "import ipywidgets as widgets\n",
    "\n",
    "\n",
    "print(\"ksjdkadadjkd sdd sdsd sddsssdd ads  dasadad dkajd sdadjadsddsak sd jksdljasjkaa sdasd dasa da a dad adadasaddsaadsadad adsasdas dssaad asasd ad\")\n",
    "\n",
    "alpha = widgets.FloatSlider(min=0,max=1,step=0.01,value=0.33)\n",
    "display(alpha)\n",
    "\n",
    "print(\"ksjdkadadjkd sdd sdsd sddsssdd ads  dasadad dkajd sdadjadsddsak sd jksdljasjkaa sdasd dasa da a dad adadasaddsaadsadad adsasdas dssaad asasd ad\")\n",
    "\n",
    "beta = widgets.FloatSlider(min=0,max=1,step=0.01,value=0.6)\n",
    "display(beta)\n",
    "\n",
    "print(\"ksjdkadadjkd sdd sdsd sddsssdd ads  dasadad dkajd sdadjadsddsak sd jksdljasjkaa sdasd dasa da a dad adadasaddsaadsadad adsasdas dssaad asasd ad\")\n",
    "\n",
    "epsilon = widgets.FloatSlider(min=0,max=1,step=0.01,value=(1-beta.value-alpha.value)/2)\n",
    "display(epsilon)\n",
    "\n",
    "print(\"ksjdkadadjkd sdd sdsd sddsssdd ads  dasadad dkajd sdadjadsddsak sd jksdljasjkaa sdasd dasa da a dad adadasaddsaadsadad adsasdas dssaad asasd ad\")\n",
    "\n",
    "kilo = widgets.FloatSlider(min=0,max=1,step=0.01,value=(1-beta.value-alpha.value)/2)\n",
    "display(kilo)"
   ]
  },
  {
   "cell_type": "markdown",
   "metadata": {},
   "source": [
    "* **Step 3: modelling our equation for growth in GDP:**"
   ]
  },
  {
   "cell_type": "markdown",
   "metadata": {},
   "source": [
    "We now set up our **augmented Solow model with human capital and natural resources**, which is given by the parameters:\n",
    "\n",
    "1. $K_t$ is capital per worker\n",
    "* $L_t$ is labor (with a growth rate on $n$)\n",
    "* $A_t$ is technology (growing with a rate of $g$)\n",
    "* $X_t$ is the total amount of land and it does not carry a time subscript since land is in fixed supply\n",
    "* $R_t$ is the total remaining stock of an exhaustible resource, oil at time t\n",
    "* $E_t$ is the part of $R_t$ that is used as energy input during periode t (where the exhaustible rate is $s_E$)\n",
    "* $Y_t = K_t^\\alpha H_t^\\varphi(A_tL_t)^\\beta X^\\kappa E_t^\\epsilon$ is GDP\n",
    "\n",
    "We still have the normal framework for a solow model such that **Savings** is a constant fraction of GDP and the production function have a constant return to scale. Moreover, we are going to use the following equations to model our framwork\n",
    "\n",
    "8. $R_{t+1} = R_t - E_t$\n",
    "9. $ E_t = s_E R_t$, where $0<s_E<1$\n",
    "\n",
    "Dividing the production function by $L_t$ on both sides and using equation 9, gives the production function per worker:\n",
    "\n",
    "10. $y_t = k_t^\\alpha h_t^\\varphi A_t^\\beta (X/L_t)^\\kappa ({s_E R_t}/L_t)^\\epsilon $\n",
    "\n",
    "By taking logs on both sides we get:\n",
    "11. $ln(y_t) = \\alpha ln(k_t) +\\varphi ln(h_t)+ \\beta ln(A_t)- \\kappa (ln(L_t)-ln(L_{t-1}))+ \\epsilon (((ln(R_t)-ln(R_{t-1}))-(ln(L_t)-ln(L_{t-1}))) = \\alpha ln(k_t) +\\varphi ln(h_t)+ \\beta ln(A_t)- (\\kappa+\\epsilon) (ln(L_t)-ln(L_{t-1}))+ \\epsilon (ln(R_t)-ln(R_{t-1})) $\n",
    "\n",
    "By combinig equation 8 and 9, we get that $ R_{t+1} = R_t - s_E R_t <=> (R_{t+1}/R_t) = s_E + 1 $, and use that $ln(R_t)-ln(R_{t-1})=-ln(s_E+1) =-s_E$, we get that\n",
    "\n",
    "13. $ln(y_t) = \\alpha ln(k_t) +\\varphi ln(h_t)+ \\beta ln(A_t)- (\\kappa+\\epsilon) n- \\epsilon s_E $\n",
    "\n",
    "we know use the standard approximation that logs differences is a growth rate approximation. Therefore, calculate the time differences on both sides which gives:\n",
    "\n",
    "14. $ln(y_t)-ln(y_{t-1}) = \\alpha (ln(k_t)-ln(k_{t-1})) +\\varphi (ln(h_t)-ln(h_{t-1}))+ \\beta (ln(A_t)-ln(A_{t-1}))- (\\kappa+\\epsilon) n- \\epsilon s_E$\n",
    "\n",
    "We use the approximation that the gowth rate for output per worker is $g_y$, the growth rate for technology is g, the growth rate for human capital per worker is $g_h$ and the growth rate in capital per worker is $g_k$. This gives us the following equation:\n",
    "\n",
    "15. $g_y = \\alpha g_k +\\varphi g_h+ \\beta g- (\\kappa+\\epsilon) n- \\epsilon s_E$\n",
    " \n",
    "\n",
    "We know from the solow model that the two capital/output ratios is constant in steady state, which is why we use the approximation that both capital and human capital grow at the same rate as $y_t$: $g_y = g_k =g_h$. This gives us the following model\n",
    "\n",
    "16. $g_y = \\beta / {(1-\\alpha-\\varphi)} g - {(\\kappa+\\epsilon)n} / {(1-\\alpha-\\varphi)} - \\epsilon / {(1-\\alpha-\\varphi)} s_E$\n",
    "\n",
    "we now use that the solow model with human capital and natural resources exhibit constant return to scale, which gives us\n",
    "\n",
    "17. $g_y = \\beta / {(\\beta+\\kappa+\\epsilon)} g - {(\\kappa+\\epsilon)n} / {(\\beta+\\kappa+\\epsilon)} - \\epsilon / {(\\beta+\\kappa+\\epsilon)} s_E$\n",
    "\n",
    "We now have our equation 17, which can tell us how large growth rate in GDP each country have depending on the parameters. Therefore, we will first find the parameter values before we continue by finding the growth rate for GDP for different values for growth rate for population and growth rate for technology \n",
    "\n"
   ]
  },
  {
   "cell_type": "markdown",
   "metadata": {},
   "source": [
    "* **Step 4: finding parameter values for all parameters that are included in our equation 17:**"
   ]
  },
  {
   "cell_type": "markdown",
   "metadata": {},
   "source": [
    "We use equation (37) from page 205 in the book \"Introducing  Advanced Macroeconomics - Growth and Business Cycles\" by Peter Birk Sørensen and Hans Jørgen Whitta-Jacobsen and augmenting it with human capital. We then get:\n",
    "\n",
    "18. $ln(y_t^*) = \\beta / {(\\beta+\\kappa+\\epsilon)} ln(A_t) + \\epsilon / {(\\beta+\\kappa+\\epsilon)} ln(s_E) + \\alpha / {(\\beta+\\kappa+\\epsilon)} [ln(s_K)-ln(n+0.062)]+ \\varphi / {(\\beta+\\kappa+\\epsilon)} [ln(s_H)-ln(n+0.062)] + \\kappa / {(\\beta+\\kappa+\\epsilon)} ln({X/L_t})+ \\epsilon / {(\\beta+\\kappa+\\epsilon)} ln({R_t/L_t}) $\n",
    "\n",
    "Which gives us the following regression equation:\n",
    "\n",
    "18. $ln(y_{00}^i) = \\gamma_0 + \\gamma_1 [ln(s^i_K)-ln(n^i+0.062)]+ \\gamma_2 [ln(s^i_H)-ln(n^i+0.062)] + \\gamma_3 ln({X/L^i})_{00}+  \\gamma_4 ln({R^i/L^i})_{00} $\n",
    "\n",
    "\n",
    "\n"
   ]
  },
  {
   "cell_type": "code",
   "execution_count": 63,
   "metadata": {},
   "outputs": [
    {
     "name": "stderr",
     "output_type": "stream",
     "text": [
      "/anaconda3/lib/python3.7/site-packages/ipykernel_launcher.py:7: RuntimeWarning: divide by zero encountered in log\n",
      "  import sys\n"
     ]
    },
    {
     "ename": "MissingDataError",
     "evalue": "exog contains inf or nans",
     "output_type": "error",
     "traceback": [
      "\u001b[0;31m---------------------------------------------------------------------------\u001b[0m",
      "\u001b[0;31mMissingDataError\u001b[0m                          Traceback (most recent call last)",
      "\u001b[0;32m<ipython-input-63-6acf46af8ec0>\u001b[0m in \u001b[0;36m<module>\u001b[0;34m\u001b[0m\n\u001b[1;32m      8\u001b[0m \u001b[0;34m\u001b[0m\u001b[0m\n\u001b[1;32m      9\u001b[0m \u001b[0;31m# Fit regression model (using the natural log of one of the regressors)\u001b[0m\u001b[0;34m\u001b[0m\u001b[0;34m\u001b[0m\u001b[0;34m\u001b[0m\u001b[0m\n\u001b[0;32m---> 10\u001b[0;31m \u001b[0mresults\u001b[0m \u001b[0;34m=\u001b[0m \u001b[0msmf\u001b[0m\u001b[0;34m.\u001b[0m\u001b[0mols\u001b[0m\u001b[0;34m(\u001b[0m\u001b[0;34m\"logy03 ~ logsK1 + logsH1 + logland + logsubsoil\"\u001b[0m\u001b[0;34m,\u001b[0m \u001b[0mdata\u001b[0m\u001b[0;34m=\u001b[0m\u001b[0mDataDescribe\u001b[0m\u001b[0;34m)\u001b[0m\u001b[0;34m.\u001b[0m\u001b[0mfit\u001b[0m\u001b[0;34m(\u001b[0m\u001b[0;34m)\u001b[0m\u001b[0;34m\u001b[0m\u001b[0;34m\u001b[0m\u001b[0m\n\u001b[0m\u001b[1;32m     11\u001b[0m \u001b[0;34m\u001b[0m\u001b[0m\n\u001b[1;32m     12\u001b[0m \u001b[0;31m# Inspect the results\u001b[0m\u001b[0;34m\u001b[0m\u001b[0;34m\u001b[0m\u001b[0;34m\u001b[0m\u001b[0m\n",
      "\u001b[0;32m/anaconda3/lib/python3.7/site-packages/statsmodels/base/model.py\u001b[0m in \u001b[0;36mfrom_formula\u001b[0;34m(cls, formula, data, subset, drop_cols, *args, **kwargs)\u001b[0m\n\u001b[1;32m    172\u001b[0m                        \u001b[0;34m'formula'\u001b[0m\u001b[0;34m:\u001b[0m \u001b[0mformula\u001b[0m\u001b[0;34m,\u001b[0m  \u001b[0;31m# attach formula for unpckling\u001b[0m\u001b[0;34m\u001b[0m\u001b[0;34m\u001b[0m\u001b[0m\n\u001b[1;32m    173\u001b[0m                        'design_info': design_info})\n\u001b[0;32m--> 174\u001b[0;31m         \u001b[0mmod\u001b[0m \u001b[0;34m=\u001b[0m \u001b[0mcls\u001b[0m\u001b[0;34m(\u001b[0m\u001b[0mendog\u001b[0m\u001b[0;34m,\u001b[0m \u001b[0mexog\u001b[0m\u001b[0;34m,\u001b[0m \u001b[0;34m*\u001b[0m\u001b[0margs\u001b[0m\u001b[0;34m,\u001b[0m \u001b[0;34m**\u001b[0m\u001b[0mkwargs\u001b[0m\u001b[0;34m)\u001b[0m\u001b[0;34m\u001b[0m\u001b[0;34m\u001b[0m\u001b[0m\n\u001b[0m\u001b[1;32m    175\u001b[0m         \u001b[0mmod\u001b[0m\u001b[0;34m.\u001b[0m\u001b[0mformula\u001b[0m \u001b[0;34m=\u001b[0m \u001b[0mformula\u001b[0m\u001b[0;34m\u001b[0m\u001b[0;34m\u001b[0m\u001b[0m\n\u001b[1;32m    176\u001b[0m \u001b[0;34m\u001b[0m\u001b[0m\n",
      "\u001b[0;32m/anaconda3/lib/python3.7/site-packages/statsmodels/regression/linear_model.py\u001b[0m in \u001b[0;36m__init__\u001b[0;34m(self, endog, exog, missing, hasconst, **kwargs)\u001b[0m\n\u001b[1;32m    815\u001b[0m                  **kwargs):\n\u001b[1;32m    816\u001b[0m         super(OLS, self).__init__(endog, exog, missing=missing,\n\u001b[0;32m--> 817\u001b[0;31m                                   hasconst=hasconst, **kwargs)\n\u001b[0m\u001b[1;32m    818\u001b[0m         \u001b[0;32mif\u001b[0m \u001b[0;34m\"weights\"\u001b[0m \u001b[0;32min\u001b[0m \u001b[0mself\u001b[0m\u001b[0;34m.\u001b[0m\u001b[0m_init_keys\u001b[0m\u001b[0;34m:\u001b[0m\u001b[0;34m\u001b[0m\u001b[0;34m\u001b[0m\u001b[0m\n\u001b[1;32m    819\u001b[0m             \u001b[0mself\u001b[0m\u001b[0;34m.\u001b[0m\u001b[0m_init_keys\u001b[0m\u001b[0;34m.\u001b[0m\u001b[0mremove\u001b[0m\u001b[0;34m(\u001b[0m\u001b[0;34m\"weights\"\u001b[0m\u001b[0;34m)\u001b[0m\u001b[0;34m\u001b[0m\u001b[0;34m\u001b[0m\u001b[0m\n",
      "\u001b[0;32m/anaconda3/lib/python3.7/site-packages/statsmodels/regression/linear_model.py\u001b[0m in \u001b[0;36m__init__\u001b[0;34m(self, endog, exog, weights, missing, hasconst, **kwargs)\u001b[0m\n\u001b[1;32m    661\u001b[0m             \u001b[0mweights\u001b[0m \u001b[0;34m=\u001b[0m \u001b[0mweights\u001b[0m\u001b[0;34m.\u001b[0m\u001b[0msqueeze\u001b[0m\u001b[0;34m(\u001b[0m\u001b[0;34m)\u001b[0m\u001b[0;34m\u001b[0m\u001b[0;34m\u001b[0m\u001b[0m\n\u001b[1;32m    662\u001b[0m         super(WLS, self).__init__(endog, exog, missing=missing,\n\u001b[0;32m--> 663\u001b[0;31m                                   weights=weights, hasconst=hasconst, **kwargs)\n\u001b[0m\u001b[1;32m    664\u001b[0m         \u001b[0mnobs\u001b[0m \u001b[0;34m=\u001b[0m \u001b[0mself\u001b[0m\u001b[0;34m.\u001b[0m\u001b[0mexog\u001b[0m\u001b[0;34m.\u001b[0m\u001b[0mshape\u001b[0m\u001b[0;34m[\u001b[0m\u001b[0;36m0\u001b[0m\u001b[0;34m]\u001b[0m\u001b[0;34m\u001b[0m\u001b[0;34m\u001b[0m\u001b[0m\n\u001b[1;32m    665\u001b[0m         \u001b[0mweights\u001b[0m \u001b[0;34m=\u001b[0m \u001b[0mself\u001b[0m\u001b[0;34m.\u001b[0m\u001b[0mweights\u001b[0m\u001b[0;34m\u001b[0m\u001b[0;34m\u001b[0m\u001b[0m\n",
      "\u001b[0;32m/anaconda3/lib/python3.7/site-packages/statsmodels/regression/linear_model.py\u001b[0m in \u001b[0;36m__init__\u001b[0;34m(self, endog, exog, **kwargs)\u001b[0m\n\u001b[1;32m    177\u001b[0m     \"\"\"\n\u001b[1;32m    178\u001b[0m     \u001b[0;32mdef\u001b[0m \u001b[0m__init__\u001b[0m\u001b[0;34m(\u001b[0m\u001b[0mself\u001b[0m\u001b[0;34m,\u001b[0m \u001b[0mendog\u001b[0m\u001b[0;34m,\u001b[0m \u001b[0mexog\u001b[0m\u001b[0;34m,\u001b[0m \u001b[0;34m**\u001b[0m\u001b[0mkwargs\u001b[0m\u001b[0;34m)\u001b[0m\u001b[0;34m:\u001b[0m\u001b[0;34m\u001b[0m\u001b[0;34m\u001b[0m\u001b[0m\n\u001b[0;32m--> 179\u001b[0;31m         \u001b[0msuper\u001b[0m\u001b[0;34m(\u001b[0m\u001b[0mRegressionModel\u001b[0m\u001b[0;34m,\u001b[0m \u001b[0mself\u001b[0m\u001b[0;34m)\u001b[0m\u001b[0;34m.\u001b[0m\u001b[0m__init__\u001b[0m\u001b[0;34m(\u001b[0m\u001b[0mendog\u001b[0m\u001b[0;34m,\u001b[0m \u001b[0mexog\u001b[0m\u001b[0;34m,\u001b[0m \u001b[0;34m**\u001b[0m\u001b[0mkwargs\u001b[0m\u001b[0;34m)\u001b[0m\u001b[0;34m\u001b[0m\u001b[0;34m\u001b[0m\u001b[0m\n\u001b[0m\u001b[1;32m    180\u001b[0m         \u001b[0mself\u001b[0m\u001b[0;34m.\u001b[0m\u001b[0m_data_attr\u001b[0m\u001b[0;34m.\u001b[0m\u001b[0mextend\u001b[0m\u001b[0;34m(\u001b[0m\u001b[0;34m[\u001b[0m\u001b[0;34m'pinv_wexog'\u001b[0m\u001b[0;34m,\u001b[0m \u001b[0;34m'wendog'\u001b[0m\u001b[0;34m,\u001b[0m \u001b[0;34m'wexog'\u001b[0m\u001b[0;34m,\u001b[0m \u001b[0;34m'weights'\u001b[0m\u001b[0;34m]\u001b[0m\u001b[0;34m)\u001b[0m\u001b[0;34m\u001b[0m\u001b[0;34m\u001b[0m\u001b[0m\n\u001b[1;32m    181\u001b[0m \u001b[0;34m\u001b[0m\u001b[0m\n",
      "\u001b[0;32m/anaconda3/lib/python3.7/site-packages/statsmodels/base/model.py\u001b[0m in \u001b[0;36m__init__\u001b[0;34m(self, endog, exog, **kwargs)\u001b[0m\n\u001b[1;32m    210\u001b[0m \u001b[0;34m\u001b[0m\u001b[0m\n\u001b[1;32m    211\u001b[0m     \u001b[0;32mdef\u001b[0m \u001b[0m__init__\u001b[0m\u001b[0;34m(\u001b[0m\u001b[0mself\u001b[0m\u001b[0;34m,\u001b[0m \u001b[0mendog\u001b[0m\u001b[0;34m,\u001b[0m \u001b[0mexog\u001b[0m\u001b[0;34m=\u001b[0m\u001b[0;32mNone\u001b[0m\u001b[0;34m,\u001b[0m \u001b[0;34m**\u001b[0m\u001b[0mkwargs\u001b[0m\u001b[0;34m)\u001b[0m\u001b[0;34m:\u001b[0m\u001b[0;34m\u001b[0m\u001b[0;34m\u001b[0m\u001b[0m\n\u001b[0;32m--> 212\u001b[0;31m         \u001b[0msuper\u001b[0m\u001b[0;34m(\u001b[0m\u001b[0mLikelihoodModel\u001b[0m\u001b[0;34m,\u001b[0m \u001b[0mself\u001b[0m\u001b[0;34m)\u001b[0m\u001b[0;34m.\u001b[0m\u001b[0m__init__\u001b[0m\u001b[0;34m(\u001b[0m\u001b[0mendog\u001b[0m\u001b[0;34m,\u001b[0m \u001b[0mexog\u001b[0m\u001b[0;34m,\u001b[0m \u001b[0;34m**\u001b[0m\u001b[0mkwargs\u001b[0m\u001b[0;34m)\u001b[0m\u001b[0;34m\u001b[0m\u001b[0;34m\u001b[0m\u001b[0m\n\u001b[0m\u001b[1;32m    213\u001b[0m         \u001b[0mself\u001b[0m\u001b[0;34m.\u001b[0m\u001b[0minitialize\u001b[0m\u001b[0;34m(\u001b[0m\u001b[0;34m)\u001b[0m\u001b[0;34m\u001b[0m\u001b[0;34m\u001b[0m\u001b[0m\n\u001b[1;32m    214\u001b[0m \u001b[0;34m\u001b[0m\u001b[0m\n",
      "\u001b[0;32m/anaconda3/lib/python3.7/site-packages/statsmodels/base/model.py\u001b[0m in \u001b[0;36m__init__\u001b[0;34m(self, endog, exog, **kwargs)\u001b[0m\n\u001b[1;32m     62\u001b[0m         \u001b[0mhasconst\u001b[0m \u001b[0;34m=\u001b[0m \u001b[0mkwargs\u001b[0m\u001b[0;34m.\u001b[0m\u001b[0mpop\u001b[0m\u001b[0;34m(\u001b[0m\u001b[0;34m'hasconst'\u001b[0m\u001b[0;34m,\u001b[0m \u001b[0;32mNone\u001b[0m\u001b[0;34m)\u001b[0m\u001b[0;34m\u001b[0m\u001b[0;34m\u001b[0m\u001b[0m\n\u001b[1;32m     63\u001b[0m         self.data = self._handle_data(endog, exog, missing, hasconst,\n\u001b[0;32m---> 64\u001b[0;31m                                       **kwargs)\n\u001b[0m\u001b[1;32m     65\u001b[0m         \u001b[0mself\u001b[0m\u001b[0;34m.\u001b[0m\u001b[0mk_constant\u001b[0m \u001b[0;34m=\u001b[0m \u001b[0mself\u001b[0m\u001b[0;34m.\u001b[0m\u001b[0mdata\u001b[0m\u001b[0;34m.\u001b[0m\u001b[0mk_constant\u001b[0m\u001b[0;34m\u001b[0m\u001b[0;34m\u001b[0m\u001b[0m\n\u001b[1;32m     66\u001b[0m         \u001b[0mself\u001b[0m\u001b[0;34m.\u001b[0m\u001b[0mexog\u001b[0m \u001b[0;34m=\u001b[0m \u001b[0mself\u001b[0m\u001b[0;34m.\u001b[0m\u001b[0mdata\u001b[0m\u001b[0;34m.\u001b[0m\u001b[0mexog\u001b[0m\u001b[0;34m\u001b[0m\u001b[0;34m\u001b[0m\u001b[0m\n",
      "\u001b[0;32m/anaconda3/lib/python3.7/site-packages/statsmodels/base/model.py\u001b[0m in \u001b[0;36m_handle_data\u001b[0;34m(self, endog, exog, missing, hasconst, **kwargs)\u001b[0m\n\u001b[1;32m     85\u001b[0m \u001b[0;34m\u001b[0m\u001b[0m\n\u001b[1;32m     86\u001b[0m     \u001b[0;32mdef\u001b[0m \u001b[0m_handle_data\u001b[0m\u001b[0;34m(\u001b[0m\u001b[0mself\u001b[0m\u001b[0;34m,\u001b[0m \u001b[0mendog\u001b[0m\u001b[0;34m,\u001b[0m \u001b[0mexog\u001b[0m\u001b[0;34m,\u001b[0m \u001b[0mmissing\u001b[0m\u001b[0;34m,\u001b[0m \u001b[0mhasconst\u001b[0m\u001b[0;34m,\u001b[0m \u001b[0;34m**\u001b[0m\u001b[0mkwargs\u001b[0m\u001b[0;34m)\u001b[0m\u001b[0;34m:\u001b[0m\u001b[0;34m\u001b[0m\u001b[0;34m\u001b[0m\u001b[0m\n\u001b[0;32m---> 87\u001b[0;31m         \u001b[0mdata\u001b[0m \u001b[0;34m=\u001b[0m \u001b[0mhandle_data\u001b[0m\u001b[0;34m(\u001b[0m\u001b[0mendog\u001b[0m\u001b[0;34m,\u001b[0m \u001b[0mexog\u001b[0m\u001b[0;34m,\u001b[0m \u001b[0mmissing\u001b[0m\u001b[0;34m,\u001b[0m \u001b[0mhasconst\u001b[0m\u001b[0;34m,\u001b[0m \u001b[0;34m**\u001b[0m\u001b[0mkwargs\u001b[0m\u001b[0;34m)\u001b[0m\u001b[0;34m\u001b[0m\u001b[0;34m\u001b[0m\u001b[0m\n\u001b[0m\u001b[1;32m     88\u001b[0m         \u001b[0;31m# kwargs arrays could have changed, easier to just attach here\u001b[0m\u001b[0;34m\u001b[0m\u001b[0;34m\u001b[0m\u001b[0;34m\u001b[0m\u001b[0m\n\u001b[1;32m     89\u001b[0m         \u001b[0;32mfor\u001b[0m \u001b[0mkey\u001b[0m \u001b[0;32min\u001b[0m \u001b[0mkwargs\u001b[0m\u001b[0;34m:\u001b[0m\u001b[0;34m\u001b[0m\u001b[0;34m\u001b[0m\u001b[0m\n",
      "\u001b[0;32m/anaconda3/lib/python3.7/site-packages/statsmodels/base/data.py\u001b[0m in \u001b[0;36mhandle_data\u001b[0;34m(endog, exog, missing, hasconst, **kwargs)\u001b[0m\n\u001b[1;32m    631\u001b[0m     \u001b[0mklass\u001b[0m \u001b[0;34m=\u001b[0m \u001b[0mhandle_data_class_factory\u001b[0m\u001b[0;34m(\u001b[0m\u001b[0mendog\u001b[0m\u001b[0;34m,\u001b[0m \u001b[0mexog\u001b[0m\u001b[0;34m)\u001b[0m\u001b[0;34m\u001b[0m\u001b[0;34m\u001b[0m\u001b[0m\n\u001b[1;32m    632\u001b[0m     return klass(endog, exog=exog, missing=missing, hasconst=hasconst,\n\u001b[0;32m--> 633\u001b[0;31m                  **kwargs)\n\u001b[0m",
      "\u001b[0;32m/anaconda3/lib/python3.7/site-packages/statsmodels/base/data.py\u001b[0m in \u001b[0;36m__init__\u001b[0;34m(self, endog, exog, missing, hasconst, **kwargs)\u001b[0m\n\u001b[1;32m     77\u001b[0m \u001b[0;34m\u001b[0m\u001b[0m\n\u001b[1;32m     78\u001b[0m         \u001b[0;31m# this has side-effects, attaches k_constant and const_idx\u001b[0m\u001b[0;34m\u001b[0m\u001b[0;34m\u001b[0m\u001b[0;34m\u001b[0m\u001b[0m\n\u001b[0;32m---> 79\u001b[0;31m         \u001b[0mself\u001b[0m\u001b[0;34m.\u001b[0m\u001b[0m_handle_constant\u001b[0m\u001b[0;34m(\u001b[0m\u001b[0mhasconst\u001b[0m\u001b[0;34m)\u001b[0m\u001b[0;34m\u001b[0m\u001b[0;34m\u001b[0m\u001b[0m\n\u001b[0m\u001b[1;32m     80\u001b[0m         \u001b[0mself\u001b[0m\u001b[0;34m.\u001b[0m\u001b[0m_check_integrity\u001b[0m\u001b[0;34m(\u001b[0m\u001b[0;34m)\u001b[0m\u001b[0;34m\u001b[0m\u001b[0;34m\u001b[0m\u001b[0m\n\u001b[1;32m     81\u001b[0m         \u001b[0mself\u001b[0m\u001b[0;34m.\u001b[0m\u001b[0m_cache\u001b[0m \u001b[0;34m=\u001b[0m \u001b[0mresettable_cache\u001b[0m\u001b[0;34m(\u001b[0m\u001b[0;34m)\u001b[0m\u001b[0;34m\u001b[0m\u001b[0;34m\u001b[0m\u001b[0m\n",
      "\u001b[0;32m/anaconda3/lib/python3.7/site-packages/statsmodels/base/data.py\u001b[0m in \u001b[0;36m_handle_constant\u001b[0;34m(self, hasconst)\u001b[0m\n\u001b[1;32m    131\u001b[0m             \u001b[0mptp_\u001b[0m \u001b[0;34m=\u001b[0m \u001b[0mself\u001b[0m\u001b[0;34m.\u001b[0m\u001b[0mexog\u001b[0m\u001b[0;34m.\u001b[0m\u001b[0mptp\u001b[0m\u001b[0;34m(\u001b[0m\u001b[0maxis\u001b[0m\u001b[0;34m=\u001b[0m\u001b[0;36m0\u001b[0m\u001b[0;34m)\u001b[0m\u001b[0;34m\u001b[0m\u001b[0;34m\u001b[0m\u001b[0m\n\u001b[1;32m    132\u001b[0m             \u001b[0;32mif\u001b[0m \u001b[0;32mnot\u001b[0m \u001b[0mnp\u001b[0m\u001b[0;34m.\u001b[0m\u001b[0misfinite\u001b[0m\u001b[0;34m(\u001b[0m\u001b[0mptp_\u001b[0m\u001b[0;34m)\u001b[0m\u001b[0;34m.\u001b[0m\u001b[0mall\u001b[0m\u001b[0;34m(\u001b[0m\u001b[0;34m)\u001b[0m\u001b[0;34m:\u001b[0m\u001b[0;34m\u001b[0m\u001b[0;34m\u001b[0m\u001b[0m\n\u001b[0;32m--> 133\u001b[0;31m                 \u001b[0;32mraise\u001b[0m \u001b[0mMissingDataError\u001b[0m\u001b[0;34m(\u001b[0m\u001b[0;34m'exog contains inf or nans'\u001b[0m\u001b[0;34m)\u001b[0m\u001b[0;34m\u001b[0m\u001b[0;34m\u001b[0m\u001b[0m\n\u001b[0m\u001b[1;32m    134\u001b[0m             \u001b[0mconst_idx\u001b[0m \u001b[0;34m=\u001b[0m \u001b[0mnp\u001b[0m\u001b[0;34m.\u001b[0m\u001b[0mwhere\u001b[0m\u001b[0;34m(\u001b[0m\u001b[0mptp_\u001b[0m \u001b[0;34m==\u001b[0m \u001b[0;36m0\u001b[0m\u001b[0;34m)\u001b[0m\u001b[0;34m[\u001b[0m\u001b[0;36m0\u001b[0m\u001b[0;34m]\u001b[0m\u001b[0;34m.\u001b[0m\u001b[0msqueeze\u001b[0m\u001b[0;34m(\u001b[0m\u001b[0;34m)\u001b[0m\u001b[0;34m\u001b[0m\u001b[0;34m\u001b[0m\u001b[0m\n\u001b[1;32m    135\u001b[0m             \u001b[0mself\u001b[0m\u001b[0;34m.\u001b[0m\u001b[0mk_constant\u001b[0m \u001b[0;34m=\u001b[0m \u001b[0mconst_idx\u001b[0m\u001b[0;34m.\u001b[0m\u001b[0msize\u001b[0m\u001b[0;34m\u001b[0m\u001b[0;34m\u001b[0m\u001b[0m\n",
      "\u001b[0;31mMissingDataError\u001b[0m: exog contains inf or nans"
     ]
    }
   ],
   "source": [
    "logy60=np.log(DataDescribe[\"y60\"])\n",
    "logy03=np.log(DataDescribe[\"y03\"])\n",
    "logn1 =np.log(DataDescribe[\"n\"]+0.075)\n",
    "logsK1=np.log(DataDescribe[\"sK\"]) - logn1\n",
    "logsH1=np.log(DataDescribe[\"sH\"]) - logn1\n",
    "logland =np.log(DataDescribe[\"Land\"])\n",
    "logsubsoil =np.log(DataDescribe[\"Subsoil\"]) \n",
    "\n",
    "# Fit regression model (using the natural log of one of the regressors)\n",
    "results = smf.ols(\"logy03 ~ logsK1 + logsH1 + logland + logsubsoil\", data=DataDescribe).fit()\n",
    "\n",
    "# Inspect the results\n",
    "print(results.summary())"
   ]
  },
  {
   "cell_type": "code",
   "execution_count": null,
   "metadata": {},
   "outputs": [],
   "source": []
  },
  {
   "cell_type": "code",
   "execution_count": null,
   "metadata": {},
   "outputs": [],
   "source": []
  },
  {
   "cell_type": "code",
   "execution_count": null,
   "metadata": {},
   "outputs": [],
   "source": []
  },
  {
   "cell_type": "code",
   "execution_count": null,
   "metadata": {},
   "outputs": [],
   "source": []
  },
  {
   "cell_type": "code",
   "execution_count": null,
   "metadata": {},
   "outputs": [],
   "source": []
  },
  {
   "cell_type": "code",
   "execution_count": null,
   "metadata": {},
   "outputs": [],
   "source": []
  },
  {
   "cell_type": "code",
   "execution_count": 8,
   "metadata": {},
   "outputs": [
    {
     "ename": "NameError",
     "evalue": "name 'population_growth' is not defined",
     "output_type": "error",
     "traceback": [
      "\u001b[0;31m---------------------------------------------------------------------------\u001b[0m",
      "\u001b[0;31mNameError\u001b[0m                                 Traceback (most recent call last)",
      "\u001b[0;32m<ipython-input-8-4642403c90c7>\u001b[0m in \u001b[0;36m<module>\u001b[0;34m\u001b[0m\n\u001b[1;32m      8\u001b[0m \u001b[0;34m\u001b[0m\u001b[0m\n\u001b[1;32m      9\u001b[0m \u001b[0;34m\u001b[0m\u001b[0m\n\u001b[0;32m---> 10\u001b[0;31m \u001b[0mprint\u001b[0m\u001b[0;34m(\u001b[0m\u001b[0mpopulation_growth\u001b[0m\u001b[0;34m)\u001b[0m\u001b[0;34m\u001b[0m\u001b[0;34m\u001b[0m\u001b[0m\n\u001b[0m",
      "\u001b[0;31mNameError\u001b[0m: name 'population_growth' is not defined"
     ]
    }
   ],
   "source": [
    "#Human_capital_effect=-()\n",
    "\n",
    "population_effect=-((kilo.value+epsilon.value)/(beta.value+kilo.value+epsilon.value))*data[\"n\"]\n",
    "\n",
    "Extraction_effect=-(epsilon.value/(beta.value+kilo.value+epsilon.value))\n",
    "\n",
    "\n",
    "\n",
    "\n",
    "print(population_growth)"
   ]
  },
  {
   "cell_type": "code",
   "execution_count": null,
   "metadata": {},
   "outputs": [],
   "source": [
    "from ipywidgets import *\n",
    "import seaborn.apionly as sns\n",
    "df = sns.load_dataset('iris')\n",
    "import matplotlib.pyplot as plt\n",
    "\n",
    "#plot\n",
    "def plot_image(x):\n",
    "\n",
    "    data = df\n",
    "\n",
    "    if x != 'Select':\n",
    "        xplot = data[x]\n",
    "        sns.distplot(xplot)\n",
    "        plt.show()\n",
    "\n",
    "#define widgets\n",
    "x = widgets.Dropdown(\n",
    "        options=df.columns,\n",
    "        value=df.columns[0],\n",
    "        description='X'\n",
    "    )\n",
    "\n",
    "x.set_title  = 'x'\n",
    "\n",
    "#assign widgets to tabs\n",
    "tab_visualise = widgets.HBox([x])\n",
    "\n",
    "#create tabs\n",
    "tab_nest = widgets.Tab()\n",
    "# tab_nest.children = [tab_visualise]\n",
    "tab_nest.set_title(0, 'Visualise')\n",
    "\n",
    "\n",
    "#interact function in isolation\n",
    "f = interactive(plot_image, x = x);\n",
    "tab_nest.children = [VBox(children = f.children)]\n",
    "display(tab_nest)"
   ]
  },
  {
   "cell_type": "code",
   "execution_count": null,
   "metadata": {},
   "outputs": [],
   "source": []
  },
  {
   "cell_type": "code",
   "execution_count": null,
   "metadata": {},
   "outputs": [],
   "source": []
  },
  {
   "cell_type": "code",
   "execution_count": 2,
   "metadata": {},
   "outputs": [],
   "source": [
    "%matplotlib inline\n",
    "import os\n",
    "import glob\n",
    "import pandas as pd\n",
    "import matplotlib.pyplot as plt\n",
    "import numpy as np\n",
    "import statsmodels.api as sm\n",
    "import statsmodels.formula.api as smf\n",
    "import geopandas\n",
    "import geoplot\n",
    "import geoplot.crs as gcrs\n",
    "import math\n",
    "import sqlite3\n",
    "import datetime as dt\n",
    "import sqlalchemy\n",
    "from numpy.random import random\n",
    "from sqlalchemy import create_engine\n",
    "import seaborn as sns\n",
    "import warnings\n",
    "warnings.filterwarnings('ignore')\n",
    "\n",
    "from pandas import DataFrame as df\n",
    "from scipy.stats import trim_mean, kurtosis\n",
    "from scipy.stats.mstats import mode, gmean, hmean"
   ]
  },
  {
   "cell_type": "code",
   "execution_count": 3,
   "metadata": {},
   "outputs": [
    {
     "ename": "TypeError",
     "evalue": "first argument must be an iterable of pandas objects, you passed an object of type \"str\"",
     "output_type": "error",
     "traceback": [
      "\u001b[0;31m---------------------------------------------------------------------------\u001b[0m",
      "\u001b[0;31mTypeError\u001b[0m                                 Traceback (most recent call last)",
      "\u001b[0;32m<ipython-input-3-6177ca5c1f68>\u001b[0m in \u001b[0;36m<module>\u001b[0;34m\u001b[0m\n\u001b[1;32m      1\u001b[0m \u001b[0mDATAPATH\u001b[0m \u001b[0;34m=\u001b[0m \u001b[0;34m\"modelproject/Dataset/APPENDIX_TableA_SECOND_ED-7.xls/\"\u001b[0m\u001b[0;34m\u001b[0m\u001b[0;34m\u001b[0m\u001b[0m\n\u001b[1;32m      2\u001b[0m \u001b[0;34m\u001b[0m\u001b[0m\n\u001b[0;32m----> 3\u001b[0;31m \u001b[0mdata_tennis\u001b[0m \u001b[0;34m=\u001b[0m \u001b[0mpd\u001b[0m\u001b[0;34m.\u001b[0m\u001b[0mconcat\u001b[0m\u001b[0;34m(\u001b[0m\u001b[0mDATAPATH\u001b[0m\u001b[0;34m)\u001b[0m\u001b[0;34m\u001b[0m\u001b[0;34m\u001b[0m\u001b[0m\n\u001b[0m\u001b[1;32m      4\u001b[0m \u001b[0;34m\u001b[0m\u001b[0m\n\u001b[1;32m      5\u001b[0m \u001b[0;34m\u001b[0m\u001b[0m\n",
      "\u001b[0;32m/anaconda3/lib/python3.7/site-packages/pandas/core/reshape/concat.py\u001b[0m in \u001b[0;36mconcat\u001b[0;34m(objs, axis, join, join_axes, ignore_index, keys, levels, names, verify_integrity, sort, copy)\u001b[0m\n\u001b[1;32m    223\u001b[0m                        \u001b[0mkeys\u001b[0m\u001b[0;34m=\u001b[0m\u001b[0mkeys\u001b[0m\u001b[0;34m,\u001b[0m \u001b[0mlevels\u001b[0m\u001b[0;34m=\u001b[0m\u001b[0mlevels\u001b[0m\u001b[0;34m,\u001b[0m \u001b[0mnames\u001b[0m\u001b[0;34m=\u001b[0m\u001b[0mnames\u001b[0m\u001b[0;34m,\u001b[0m\u001b[0;34m\u001b[0m\u001b[0;34m\u001b[0m\u001b[0m\n\u001b[1;32m    224\u001b[0m                        \u001b[0mverify_integrity\u001b[0m\u001b[0;34m=\u001b[0m\u001b[0mverify_integrity\u001b[0m\u001b[0;34m,\u001b[0m\u001b[0;34m\u001b[0m\u001b[0;34m\u001b[0m\u001b[0m\n\u001b[0;32m--> 225\u001b[0;31m                        copy=copy, sort=sort)\n\u001b[0m\u001b[1;32m    226\u001b[0m     \u001b[0;32mreturn\u001b[0m \u001b[0mop\u001b[0m\u001b[0;34m.\u001b[0m\u001b[0mget_result\u001b[0m\u001b[0;34m(\u001b[0m\u001b[0;34m)\u001b[0m\u001b[0;34m\u001b[0m\u001b[0;34m\u001b[0m\u001b[0m\n\u001b[1;32m    227\u001b[0m \u001b[0;34m\u001b[0m\u001b[0m\n",
      "\u001b[0;32m/anaconda3/lib/python3.7/site-packages/pandas/core/reshape/concat.py\u001b[0m in \u001b[0;36m__init__\u001b[0;34m(self, objs, axis, join, join_axes, keys, levels, names, ignore_index, verify_integrity, copy, sort)\u001b[0m\n\u001b[1;32m    239\u001b[0m             raise TypeError('first argument must be an iterable of pandas '\n\u001b[1;32m    240\u001b[0m                             \u001b[0;34m'objects, you passed an object of type '\u001b[0m\u001b[0;34m\u001b[0m\u001b[0;34m\u001b[0m\u001b[0m\n\u001b[0;32m--> 241\u001b[0;31m                             '\"{name}\"'.format(name=type(objs).__name__))\n\u001b[0m\u001b[1;32m    242\u001b[0m \u001b[0;34m\u001b[0m\u001b[0m\n\u001b[1;32m    243\u001b[0m         \u001b[0;32mif\u001b[0m \u001b[0mjoin\u001b[0m \u001b[0;34m==\u001b[0m \u001b[0;34m'outer'\u001b[0m\u001b[0;34m:\u001b[0m\u001b[0;34m\u001b[0m\u001b[0;34m\u001b[0m\u001b[0m\n",
      "\u001b[0;31mTypeError\u001b[0m: first argument must be an iterable of pandas objects, you passed an object of type \"str\""
     ]
    }
   ],
   "source": [
    "DATAPATH = \"modelproject/Dataset/APPENDIX_TableA_SECOND_ED-7.xls/\"\n",
    "\n",
    "data_tennis = pd.concat(DATAPATH)\n",
    "\n",
    "\n",
    "\n"
   ]
  }
 ],
 "metadata": {
  "kernelspec": {
   "display_name": "Python 3",
   "language": "python",
   "name": "python3"
  },
  "language_info": {
   "codemirror_mode": {
    "name": "ipython",
    "version": 3
   },
   "file_extension": ".py",
   "mimetype": "text/x-python",
   "name": "python",
   "nbconvert_exporter": "python",
   "pygments_lexer": "ipython3",
   "version": "3.7.1"
  }
 },
 "nbformat": 4,
 "nbformat_minor": 2
}
