{
 "cells": [
  {
   "cell_type": "markdown",
   "metadata": {},
   "source": [
    "# Mandatory assignment 2: Solow growth model with human capital\n",
    "\n",
    "* **Step 1: Package import:** The first part of the code in our project is the use of libraries with essential packages of panda, numpy and glob, which is essential for data structuring and especially arrays and pathnames and on top of that, we import statsmodel. We import the scipy package that provides various commonly used optimization algorithms. The sympy package is a Python library for symbolic computation."
   ]
  },
  {
   "cell_type": "code",
   "execution_count": 45,
   "metadata": {},
   "outputs": [],
   "source": [
    "import pandas as pd\n",
    "import ipywidgets as widgets\n",
    "from ipywidgets import interact, interactive, fixed, interact_manual\n",
    "\n",
    "import matplotlib.pyplot as plt\n",
    "import math\n",
    "import numpy as np\n",
    "from scipy.optimize import minimize\n",
    "from scipy.optimize import fsolve\n",
    "import sympy as sm\n",
    "sm.init_printing(use_unicode=True)\n",
    "from scipy import optimize\n",
    "from scipy.stats import trim_mean, kurtosis\n",
    "from scipy.stats.mstats import mode, gmean, hmean\n",
    "from IPython.display import display, Latex, Markdown\n",
    "from IPython.display import Image\n",
    "import statsmodels.api as statm\n",
    "import statsmodels.formula.api as smf\n",
    "from sympy import symbols, Eq, solve\n",
    "import turtle"
   ]
  },
  {
   "cell_type": "markdown",
   "metadata": {},
   "source": [
    "* **Step 2: Datapath and data processing:** The data in table 1 is from the second edition book \"Introducing Advanced Macroeconomics: Growth and Business Cycles\" by Peter Birch Sørensen and Hans Jørgen Whitta-Jacobsen. "
   ]
  },
  {
   "cell_type": "code",
   "execution_count": 46,
   "metadata": {},
   "outputs": [
    {
     "name": "stdout",
     "output_type": "stream",
     "text": [
      "Table 1: Data\n"
     ]
    },
    {
     "data": {
      "text/html": [
       "<div>\n",
       "<style scoped>\n",
       "    .dataframe tbody tr th:only-of-type {\n",
       "        vertical-align: middle;\n",
       "    }\n",
       "\n",
       "    .dataframe tbody tr th {\n",
       "        vertical-align: top;\n",
       "    }\n",
       "\n",
       "    .dataframe thead th {\n",
       "        text-align: right;\n",
       "    }\n",
       "</style>\n",
       "<table border=\"1\" class=\"dataframe\">\n",
       "  <thead>\n",
       "    <tr style=\"text-align: right;\">\n",
       "      <th>14</th>\n",
       "      <th>Country</th>\n",
       "      <th>Code</th>\n",
       "      <th>y03</th>\n",
       "      <th>y60</th>\n",
       "      <th>gy</th>\n",
       "      <th>sK</th>\n",
       "      <th>sH</th>\n",
       "      <th>u</th>\n",
       "      <th>isi</th>\n",
       "      <th>n</th>\n",
       "      <th>Grade</th>\n",
       "      <th>In Sample of 65</th>\n",
       "    </tr>\n",
       "  </thead>\n",
       "  <tbody>\n",
       "    <tr>\n",
       "      <th>15</th>\n",
       "      <td>Luxembourg</td>\n",
       "      <td>LUX</td>\n",
       "      <td>1.73518</td>\n",
       "      <td>0.966286</td>\n",
       "      <td>0.0313231</td>\n",
       "      <td>0.255914</td>\n",
       "      <td>-</td>\n",
       "      <td>-</td>\n",
       "      <td>0.9</td>\n",
       "      <td>0.00836579</td>\n",
       "      <td>A</td>\n",
       "      <td>0</td>\n",
       "    </tr>\n",
       "    <tr>\n",
       "      <th>16</th>\n",
       "      <td>USA</td>\n",
       "      <td>USA</td>\n",
       "      <td>1</td>\n",
       "      <td>1</td>\n",
       "      <td>0.017709</td>\n",
       "      <td>0.189912</td>\n",
       "      <td>0.115346</td>\n",
       "      <td>12.049</td>\n",
       "      <td>0.97333</td>\n",
       "      <td>0.0160803</td>\n",
       "      <td>A</td>\n",
       "      <td>1</td>\n",
       "    </tr>\n",
       "    <tr>\n",
       "      <th>17</th>\n",
       "      <td>Ireland</td>\n",
       "      <td>IRL</td>\n",
       "      <td>0.971402</td>\n",
       "      <td>0.423321</td>\n",
       "      <td>0.0370255</td>\n",
       "      <td>0.209641</td>\n",
       "      <td>0.125219</td>\n",
       "      <td>9.351</td>\n",
       "      <td>0.76672</td>\n",
       "      <td>0.0100189</td>\n",
       "      <td>A</td>\n",
       "      <td>1</td>\n",
       "    </tr>\n",
       "    <tr>\n",
       "      <th>18</th>\n",
       "      <td>Norway</td>\n",
       "      <td>NOR</td>\n",
       "      <td>0.968075</td>\n",
       "      <td>0.761374</td>\n",
       "      <td>0.0232946</td>\n",
       "      <td>0.283681</td>\n",
       "      <td>0.103698</td>\n",
       "      <td>11.848</td>\n",
       "      <td>0.87272</td>\n",
       "      <td>0.0122046</td>\n",
       "      <td>A</td>\n",
       "      <td>1</td>\n",
       "    </tr>\n",
       "    <tr>\n",
       "      <th>19</th>\n",
       "      <td>Belgium</td>\n",
       "      <td>BEL</td>\n",
       "      <td>0.906815</td>\n",
       "      <td>0.66365</td>\n",
       "      <td>0.024969</td>\n",
       "      <td>0.224658</td>\n",
       "      <td>0.101057</td>\n",
       "      <td>9.338</td>\n",
       "      <td>0.86572</td>\n",
       "      <td>0.00450328</td>\n",
       "      <td>A</td>\n",
       "      <td>1</td>\n",
       "    </tr>\n",
       "  </tbody>\n",
       "</table>\n",
       "</div>"
      ],
      "text/plain": [
       "14     Country Code       y03       y60         gy        sK        sH  \\\n",
       "15  Luxembourg  LUX   1.73518  0.966286  0.0313231  0.255914         -   \n",
       "16         USA  USA         1         1   0.017709  0.189912  0.115346   \n",
       "17     Ireland  IRL  0.971402  0.423321  0.0370255  0.209641  0.125219   \n",
       "18      Norway  NOR  0.968075  0.761374  0.0232946  0.283681  0.103698   \n",
       "19     Belgium  BEL  0.906815   0.66365   0.024969  0.224658  0.101057   \n",
       "\n",
       "14       u      isi           n Grade In Sample of 65  \n",
       "15       -      0.9  0.00836579     A               0  \n",
       "16  12.049  0.97333   0.0160803     A               1  \n",
       "17   9.351  0.76672   0.0100189     A               1  \n",
       "18  11.848  0.87272   0.0122046     A               1  \n",
       "19   9.338  0.86572  0.00450328     A               1  "
      ]
     },
     "execution_count": 46,
     "metadata": {},
     "output_type": "execute_result"
    }
   ],
   "source": [
    "#Set datapath\n",
    "datapath = \"Dataset/\"\n",
    "data = pd.read_excel(datapath + \"APPENDIX_TableA_SECOND_ED-7.xls\")\n",
    "\n",
    "#Remove unnecessary rows\n",
    "data=data[14:-18]\n",
    "#Remove unnecessary columns\n",
    "data = data.iloc[:, :-3]\n",
    "\n",
    "#Mark/select first row\n",
    "new_header = data.iloc[0]\n",
    "#All data below first row\n",
    "data = data[1:] \n",
    "#Use all data below first row and set column names equal new_header\n",
    "data.columns = new_header\n",
    "\n",
    "data.rename(columns = {list(data)[0]:\"Country\"}, inplace=True)\n",
    "print(\"Table 1: Data\")\n",
    "data.head()\n"
   ]
  },
  {
   "cell_type": "markdown",
   "metadata": {},
   "source": [
    "We extend the dataset by combining it with data for land per worker and subsoil per worker, which we have downloaded from the World Bank data: Wealth estimates.  "
   ]
  },
  {
   "cell_type": "code",
   "execution_count": 47,
   "metadata": {},
   "outputs": [
    {
     "name": "stdout",
     "output_type": "stream",
     "text": [
      "Table 2: Final Data Table\n"
     ]
    },
    {
     "data": {
      "text/html": [
       "<div>\n",
       "<style scoped>\n",
       "    .dataframe tbody tr th:only-of-type {\n",
       "        vertical-align: middle;\n",
       "    }\n",
       "\n",
       "    .dataframe tbody tr th {\n",
       "        vertical-align: top;\n",
       "    }\n",
       "\n",
       "    .dataframe thead th {\n",
       "        text-align: right;\n",
       "    }\n",
       "</style>\n",
       "<table border=\"1\" class=\"dataframe\">\n",
       "  <thead>\n",
       "    <tr style=\"text-align: right;\">\n",
       "      <th></th>\n",
       "      <th>Country_x</th>\n",
       "      <th>Code</th>\n",
       "      <th>y03</th>\n",
       "      <th>y60</th>\n",
       "      <th>gy</th>\n",
       "      <th>sK</th>\n",
       "      <th>sH</th>\n",
       "      <th>u</th>\n",
       "      <th>isi</th>\n",
       "      <th>n</th>\n",
       "      <th>Grade</th>\n",
       "      <th>In Sample of 65</th>\n",
       "      <th>Country_y</th>\n",
       "      <th>Land</th>\n",
       "      <th>Subsoil</th>\n",
       "    </tr>\n",
       "  </thead>\n",
       "  <tbody>\n",
       "    <tr>\n",
       "      <th>0</th>\n",
       "      <td>Luxembourg</td>\n",
       "      <td>LUX</td>\n",
       "      <td>1.73518</td>\n",
       "      <td>0.966286</td>\n",
       "      <td>0.0313231</td>\n",
       "      <td>0.255914</td>\n",
       "      <td>-</td>\n",
       "      <td>-</td>\n",
       "      <td>0.9</td>\n",
       "      <td>0.00836579</td>\n",
       "      <td>A</td>\n",
       "      <td>0</td>\n",
       "      <td>Luxembourg</td>\n",
       "      <td>5600.667027</td>\n",
       "      <td>1988.652571</td>\n",
       "    </tr>\n",
       "    <tr>\n",
       "      <th>1</th>\n",
       "      <td>USA</td>\n",
       "      <td>USA</td>\n",
       "      <td>1</td>\n",
       "      <td>1</td>\n",
       "      <td>0.017709</td>\n",
       "      <td>0.189912</td>\n",
       "      <td>0.115346</td>\n",
       "      <td>12.049</td>\n",
       "      <td>0.97333</td>\n",
       "      <td>0.0160803</td>\n",
       "      <td>A</td>\n",
       "      <td>1</td>\n",
       "      <td>United States</td>\n",
       "      <td>4268.678035</td>\n",
       "      <td>8651.206146</td>\n",
       "    </tr>\n",
       "    <tr>\n",
       "      <th>2</th>\n",
       "      <td>Ireland</td>\n",
       "      <td>IRL</td>\n",
       "      <td>0.971402</td>\n",
       "      <td>0.423321</td>\n",
       "      <td>0.0370255</td>\n",
       "      <td>0.209641</td>\n",
       "      <td>0.125219</td>\n",
       "      <td>9.351</td>\n",
       "      <td>0.76672</td>\n",
       "      <td>0.0100189</td>\n",
       "      <td>A</td>\n",
       "      <td>1</td>\n",
       "      <td>Ireland</td>\n",
       "      <td>11973.825063</td>\n",
       "      <td>367.476245</td>\n",
       "    </tr>\n",
       "    <tr>\n",
       "      <th>3</th>\n",
       "      <td>Norway</td>\n",
       "      <td>NOR</td>\n",
       "      <td>0.968075</td>\n",
       "      <td>0.761374</td>\n",
       "      <td>0.0232946</td>\n",
       "      <td>0.283681</td>\n",
       "      <td>0.103698</td>\n",
       "      <td>11.848</td>\n",
       "      <td>0.87272</td>\n",
       "      <td>0.0122046</td>\n",
       "      <td>A</td>\n",
       "      <td>1</td>\n",
       "      <td>Norway</td>\n",
       "      <td>6372.783293</td>\n",
       "      <td>83250.768105</td>\n",
       "    </tr>\n",
       "    <tr>\n",
       "      <th>4</th>\n",
       "      <td>Austria</td>\n",
       "      <td>AUT</td>\n",
       "      <td>0.880988</td>\n",
       "      <td>0.554981</td>\n",
       "      <td>0.0284557</td>\n",
       "      <td>0.24048</td>\n",
       "      <td>0.0951991</td>\n",
       "      <td>8.354</td>\n",
       "      <td>0.86356</td>\n",
       "      <td>0.00244029</td>\n",
       "      <td>A</td>\n",
       "      <td>1</td>\n",
       "      <td>Austria</td>\n",
       "      <td>5163.836552</td>\n",
       "      <td>1007.211843</td>\n",
       "    </tr>\n",
       "  </tbody>\n",
       "</table>\n",
       "</div>"
      ],
      "text/plain": [
       "    Country_x Code       y03       y60         gy        sK         sH  \\\n",
       "0  Luxembourg  LUX   1.73518  0.966286  0.0313231  0.255914          -   \n",
       "1         USA  USA         1         1   0.017709  0.189912   0.115346   \n",
       "2     Ireland  IRL  0.971402  0.423321  0.0370255  0.209641   0.125219   \n",
       "3      Norway  NOR  0.968075  0.761374  0.0232946  0.283681   0.103698   \n",
       "4     Austria  AUT  0.880988  0.554981  0.0284557   0.24048  0.0951991   \n",
       "\n",
       "        u      isi           n Grade In Sample of 65      Country_y  \\\n",
       "0       -      0.9  0.00836579     A               0     Luxembourg   \n",
       "1  12.049  0.97333   0.0160803     A               1  United States   \n",
       "2   9.351  0.76672   0.0100189     A               1        Ireland   \n",
       "3  11.848  0.87272   0.0122046     A               1         Norway   \n",
       "4   8.354  0.86356  0.00244029     A               1        Austria   \n",
       "\n",
       "           Land       Subsoil  \n",
       "0   5600.667027   1988.652571  \n",
       "1   4268.678035   8651.206146  \n",
       "2  11973.825063    367.476245  \n",
       "3   6372.783293  83250.768105  \n",
       "4   5163.836552   1007.211843  "
      ]
     },
     "execution_count": 47,
     "metadata": {},
     "output_type": "execute_result"
    }
   ],
   "source": [
    "datapath1 = \"Dataset/\"\n",
    "#Import of natural resources from Excel file from the dataset folder\n",
    "data1 = pd.read_excel(datapath1 + \"Natural_resources_the_world_bank.xlsx\")\n",
    "#Merging the new natural resource data with the prior country data\n",
    "data3 = pd.merge(data, data1, on=\"Code\")\n",
    "#Printing the first 50 rows including header sorted with the largest y03 values\n",
    "print(\"Table 2: Final Data Table\")\n",
    "data3.head()"
   ]
  },
  {
   "cell_type": "code",
   "execution_count": 48,
   "metadata": {},
   "outputs": [
    {
     "name": "stdout",
     "output_type": "stream",
     "text": [
      "Table 3: The land with highest growth in income per worker\n"
     ]
    },
    {
     "data": {
      "text/html": [
       "<div>\n",
       "<style scoped>\n",
       "    .dataframe tbody tr th:only-of-type {\n",
       "        vertical-align: middle;\n",
       "    }\n",
       "\n",
       "    .dataframe tbody tr th {\n",
       "        vertical-align: top;\n",
       "    }\n",
       "\n",
       "    .dataframe thead th {\n",
       "        text-align: right;\n",
       "    }\n",
       "</style>\n",
       "<table border=\"1\" class=\"dataframe\">\n",
       "  <thead>\n",
       "    <tr style=\"text-align: right;\">\n",
       "      <th></th>\n",
       "      <th>Country_x</th>\n",
       "      <th>y03</th>\n",
       "      <th>y60</th>\n",
       "      <th>gy</th>\n",
       "      <th>sK</th>\n",
       "      <th>sH</th>\n",
       "      <th>n</th>\n",
       "      <th>Grade</th>\n",
       "      <th>Land</th>\n",
       "      <th>Subsoil</th>\n",
       "    </tr>\n",
       "  </thead>\n",
       "  <tbody>\n",
       "    <tr>\n",
       "      <th>1</th>\n",
       "      <td>USA</td>\n",
       "      <td>1.0</td>\n",
       "      <td>1.0</td>\n",
       "      <td>0.017709</td>\n",
       "      <td>0.189912</td>\n",
       "      <td>0.115346</td>\n",
       "      <td>0.01608</td>\n",
       "      <td>A</td>\n",
       "      <td>4268.678035</td>\n",
       "      <td>8651.206146</td>\n",
       "    </tr>\n",
       "  </tbody>\n",
       "</table>\n",
       "</div>"
      ],
      "text/plain": [
       "  Country_x  y03  y60        gy        sK        sH        n Grade  \\\n",
       "1       USA  1.0  1.0  0.017709  0.189912  0.115346  0.01608     A   \n",
       "\n",
       "          Land      Subsoil  \n",
       "1  4268.678035  8651.206146  "
      ]
     },
     "metadata": {},
     "output_type": "display_data"
    },
    {
     "name": "stdout",
     "output_type": "stream",
     "text": [
      "\n",
      "\n",
      "Table 4: The land with the lowest growth in income per worker\n"
     ]
    },
    {
     "data": {
      "text/html": [
       "<div>\n",
       "<style scoped>\n",
       "    .dataframe tbody tr th:only-of-type {\n",
       "        vertical-align: middle;\n",
       "    }\n",
       "\n",
       "    .dataframe tbody tr th {\n",
       "        vertical-align: top;\n",
       "    }\n",
       "\n",
       "    .dataframe thead th {\n",
       "        text-align: right;\n",
       "    }\n",
       "</style>\n",
       "<table border=\"1\" class=\"dataframe\">\n",
       "  <thead>\n",
       "    <tr style=\"text-align: right;\">\n",
       "      <th></th>\n",
       "      <th>Country_x</th>\n",
       "      <th>y03</th>\n",
       "      <th>y60</th>\n",
       "      <th>gy</th>\n",
       "      <th>sK</th>\n",
       "      <th>sH</th>\n",
       "      <th>n</th>\n",
       "      <th>Grade</th>\n",
       "      <th>Land</th>\n",
       "      <th>Subsoil</th>\n",
       "    </tr>\n",
       "  </thead>\n",
       "  <tbody>\n",
       "    <tr>\n",
       "      <th>72</th>\n",
       "      <td>Ethiopia</td>\n",
       "      <td>0.023061</td>\n",
       "      <td>0.026356</td>\n",
       "      <td>0.014604</td>\n",
       "      <td>0.035875</td>\n",
       "      <td>0.014008</td>\n",
       "      <td>0.021697</td>\n",
       "      <td>C</td>\n",
       "      <td>2538.656631</td>\n",
       "      <td>50.165113</td>\n",
       "    </tr>\n",
       "  </tbody>\n",
       "</table>\n",
       "</div>"
      ],
      "text/plain": [
       "   Country_x       y03       y60        gy        sK        sH         n  \\\n",
       "72  Ethiopia  0.023061  0.026356  0.014604  0.035875  0.014008  0.021697   \n",
       "\n",
       "   Grade         Land    Subsoil  \n",
       "72     C  2538.656631  50.165113  "
      ]
     },
     "metadata": {},
     "output_type": "display_data"
    }
   ],
   "source": [
    "DataDescribe=data3\n",
    "#From the dataset we delete unnecessary columns\n",
    "DataDescribe = DataDescribe.drop([\"Code\", \"In Sample of 65\", \"u\", \"isi\", \"Country_y\"], 1)\n",
    "#We do then delete the blank rows of growth in human capital\n",
    "DataDescribe=DataDescribe[DataDescribe[\"sH\"] != '   -']\n",
    "\n",
    "#All data columns are defined as floats\n",
    "DataDescribe[\"y03\"] = DataDescribe.y03.astype(float)\n",
    "DataDescribe[\"y60\"] = DataDescribe.y60.astype(float)\n",
    "DataDescribe[\"gy\"] = DataDescribe.gy.astype(float)\n",
    "DataDescribe[\"sK\"] = DataDescribe.sK.astype(float)\n",
    "DataDescribe[\"n\"] = DataDescribe.n.astype(float)\n",
    "DataDescribe[\"sH\"] = DataDescribe.sH.astype(float)\n",
    "DataDescribe[\"Land\"] = DataDescribe.Land.astype(float)\n",
    "DataDescribe[\"Subsoil\"] = DataDescribe.Subsoil.astype(float)\n",
    "\n",
    "#Print a descriptive table of maximum observation in y03\n",
    "print(\"Table 3: The land with highest growth in income per worker\")\n",
    "max =DataDescribe[DataDescribe.y03 == DataDescribe.y03.max()]\n",
    "display(max.head())\n",
    "\n",
    "print(\"\")\n",
    "print(\"\")\n",
    "\n",
    "#Print a descriptive table of minimum observation in y03\n",
    "print(\"Table 4: The land with the lowest growth in income per worker\")\n",
    "min =DataDescribe[DataDescribe.y03 == DataDescribe.y03.min()]\n",
    "display(min.head())"
   ]
  },
  {
   "cell_type": "markdown",
   "metadata": {},
   "source": [
    "* **Step 3: Part 1: The Augmented Solow model with Human Capital:** "
   ]
  },
  {
   "cell_type": "markdown",
   "metadata": {},
   "source": [
    "We now set up our **augmented Solow model with human capital**, which is given by the parameters:\n",
    "\n",
    "1. $K_t$ is phusical capital\n",
    "* $H_t$ is human capital\n",
    "* $L_t$ is labor (with a growth rate on $n$)\n",
    "* $A_t$ is technology (growing with a rate of $g$)\n",
    "* $I^K_t=s_KY_t, 0<s_K<1$\n",
    "* $I^H_t=s_HY_t, 0<s_H<1$\n",
    "where $s_K+s_H<1$\n",
    "* $K_{t+1} =s_KY_t+(1-\\delta)K_t$\n",
    "* $H_{t+1} =s_HY_t+(1-\\delta)H_t$\n",
    "* $L_{t+1}=(1+n)L_t$\n",
    "* $A_{t+1}=(1+g)A_t$\n",
    "\n",
    "* $Y_t = K_t^\\alpha H_t^\\varphi(A_tL_t)^{(1-\\alpha)}, 0<\\alpha<1, 0<\\varphi<1, \\alpha+\\varphi<1 $ is GDP\n",
    "\n",
    "We still have the normal framework for a Solow model such that **Savings** is a constant fraction of GDP and the production function have a **constant return to scale**.\n",
    "\n",
    "Dividing the production function by $L_tA_t$ on both sides gives the production function per effective worker:\n",
    "\n",
    "11. $\\tilde{y}_t = \\tilde{k}_t^\\alpha \\tilde{h}_t^\\varphi$\n"
   ]
  },
  {
   "cell_type": "markdown",
   "metadata": {},
   "source": [
    "* **Step 4: Steady State predictions:**\n",
    "We are going to use equation 9 and 10 from above to model our two solow equations. We use the equation for physical capital per effective worker in the next period and the equation for human capital per effective worker in the next periode, given by:\n",
    "\n",
    "12. $\\tilde{k}_{t+1} = (1/((1+n)(1+g)))(s_K\\tilde{y}_t+(1-\\delta)\\tilde{k}_t)$\n",
    "13. $\\tilde{h}_{t+1} = (1/((1+n)(1+g)))(s_H\\tilde{y}_t+(1-\\delta)\\tilde{h}_t)$\n",
    "\n",
    "By inserting equation 11 in equation 12 and 13, we get:\n",
    "\n",
    "8. $\\tilde{k}_{t+1} = (1/((1+n)(1+g)))(s_K\\tilde{k}_t^\\alpha \\tilde{h}_t^\\varphi+(1-\\delta)\\tilde{k}_t)$\n",
    "9. $\\tilde{h}_{t+1} = (1/((1+n)(1+g)))(s_H\\tilde{k}_t^\\alpha \\tilde{h}_t^\\varphi+(1-\\delta)\\tilde{h}_t)$\n",
    "\n",
    "By using the two steady state conditions stating that $\\tilde{k}_{t+1}=\\tilde{k}_{t}=\\tilde{k}^*$ and $\\tilde{h}_{t+1}=\\tilde{h}_{t}=\\tilde{h}^*$, and withdrawing capital from both sides of eq. 8 and 9 we get the Solow equation which is stated below:"
   ]
  },
  {
   "cell_type": "code",
   "execution_count": 49,
   "metadata": {},
   "outputs": [
    {
     "data": {
      "image/png": "[encoded data removed]",
      "text/latex": [
       "$\\displaystyle \\left( 0 = - \\tilde{k}_t + \\frac{\\tilde{h}_t^{\\varphi} \\tilde{k}_t^{\\alpha} s_{K} + \\tilde{k}_t \\left(1 - \\delta\\right)}{\\left(g + 1\\right) \\left(ng + 1\\right)}, \\  0 = - \\tilde{h}_t + \\frac{\\tilde{h}_t \\left(1 - \\delta\\right) + \\tilde{h}_t^{\\varphi} \\tilde{k}_t^{\\alpha} s_{H}}{\\left(g + 1\\right) \\left(ng + 1\\right)}\\right)$"
      ],
      "text/plain": [
       "⎛                            varphi           α                               \n",
       "⎜                  \\tilde{h}ₜ      ⋅\\tilde{k}ₜ ⋅s_K + \\tilde{k}ₜ⋅(1 - δ)      \n",
       "⎜0 = -\\tilde{k}ₜ + ─────────────────────────────────────────────────────, 0 = \n",
       "⎝                                     (g + 1)⋅(ng + 1)                        \n",
       "\n",
       "                                             varphi           α    ⎞\n",
       "              \\tilde{h}ₜ⋅(1 - δ) + \\tilde{h}ₜ      ⋅\\tilde{k}ₜ ⋅s_H⎟\n",
       "-\\tilde{h}ₜ + ─────────────────────────────────────────────────────⎟\n",
       "                                 (g + 1)⋅(ng + 1)                  ⎠"
      ]
     },
     "execution_count": 49,
     "metadata": {},
     "output_type": "execute_result"
    }
   ],
   "source": [
    "import numpy as np\n",
    "from scipy.optimize import minimize\n",
    "import sympy as sm\n",
    "\n",
    "#Define all variables and parameters as sympy symbols\n",
    "a = sm.symbols(\"alpha\")\n",
    "phi = sm.symbols(\"varphi\")\n",
    "b = sm.symbols(\"beta\")\n",
    "g = sm.symbols(\"g\")\n",
    "n = sm.symbols(\"n\")\n",
    "n = sm.symbols(\"ng\")\n",
    "y = sm.symbols(\"y\")\n",
    "d = sm.symbols(\"delta\")\n",
    "k = sm.symbols(\"\\\\tilde{k}_t\")\n",
    "h = sm.symbols(\"\\\\tilde{h}_t\")\n",
    "ktildestar = sm.symbols(\"\\\\tilde{k}^*\")\n",
    "htildestar = sm.symbols(\"\\\\tilde{h}^*\")\n",
    "\n",
    "A = sm.symbols(\"A\")\n",
    "g_y = sm.symbols(\"g_y\")\n",
    "s_K = sm.symbols(\"s_K\")\n",
    "s_H = sm.symbols(\"s_H\")\n",
    "t = sm.symbols(\"t\")\n",
    "\n",
    "#Stating the Solow equations of capital and human capital with the sm equation function\n",
    "SolowEq1 = sm.Eq(0,((1/((1+n)*(1+g)))*(s_K*(k**a * (h**phi))+(1-d)*k))-k)\n",
    "SolowEq2 = sm.Eq(0,((1/((1+n)*(1+g)))*(s_H*(k**a * (h**phi))+(1-d)*h))-h)\n",
    "\n",
    "#Printing the equations\n",
    "SolowEq1, SolowEq2\n"
   ]
  },
  {
   "cell_type": "markdown",
   "metadata": {},
   "source": [
    "We use the above Solow equations and solve the system of two equations with two unknown variables, we get:"
   ]
  },
  {
   "cell_type": "code",
   "execution_count": 50,
   "metadata": {},
   "outputs": [
    {
     "data": {
      "text/markdown": [
       "The steady state value of physical capital per effective worker is $\\ \\tilde k^*= $ $s_{H}^{- \\frac{\\varphi}{\\alpha + \\varphi - 1}} \\left(s_{K}^{\\varphi - 1} \\left(\\delta + g ng + g + ng\\right)\\right)^{\\frac{1}{\\alpha + \\varphi - 1}}$."
      ],
      "text/plain": [
       "<IPython.core.display.Markdown object>"
      ]
     },
     "metadata": {},
     "output_type": "display_data"
    },
    {
     "data": {
      "text/markdown": [
       "The steady state value of human capital per effective worker is $\\ \\tilde h^*= $ $\\left(\\left(s_{H}^{- \\frac{\\varphi}{\\alpha + \\varphi - 1}} \\left(s_{K}^{\\varphi - 1} \\left(\\delta + g ng + g + ng\\right)\\right)^{\\frac{1}{\\alpha + \\varphi - 1}}\\right)^{- \\alpha} \\left(\\delta + g ng + g + ng\\right) / s_{H}\\right)^{\\frac{1}{\\varphi - 1}}$."
      ],
      "text/plain": [
       "<IPython.core.display.Markdown object>"
      ]
     },
     "metadata": {},
     "output_type": "display_data"
    }
   ],
   "source": [
    "#Define k h as symbols\n",
    "k, h = symbols('k h')\n",
    "eq1 = Eq(s_K*k**a*h**phi-(n+g+d+(n*g))*k)\n",
    "eq2 = Eq(s_H*k**a*h**phi-(n+g+d+(n*g))*h)\n",
    "\n",
    "#derive the value of k and h in steady state from the abovementioned equations in parameter values\n",
    "SS = solve((eq1,eq2), (k, h))\n",
    "\n",
    "#Printing the steady-state value for capital and human capital\n",
    "ktildestar=SS[0][0]\n",
    "htildestar=SS[0][1]\n",
    "\n",
    "# Latex print of physical capital per effective worker\n",
    "display(\n",
    "        Markdown(\n",
    "            r'The steady state value of physical capital per effective worker is $\\ \\tilde k^*= $ {}.'.format(\n",
    "                sm.latex(ktildestar, mode='inline'))))\n",
    "\n",
    "# Latex print of physical capital per effective worker\n",
    "display(\n",
    "    Markdown(\n",
    "        r'The steady state value of human capital per effective worker is $\\ \\tilde h^*= $ {}.'.format(\n",
    "            sm.latex(htildestar, mode='inline'))))"
   ]
  },
  {
   "cell_type": "markdown",
   "metadata": {},
   "source": [
    "From above we calculated the expressions for the steady-state value for physical capital per effective worker and human capital per effective worker. We insert the below parameter values in the steady-state expressions and get:"
   ]
  },
  {
   "cell_type": "code",
   "execution_count": 51,
   "metadata": {},
   "outputs": [
    {
     "name": "stdout",
     "output_type": "stream",
     "text": [
      "[(14.696788132394444, 14.696788132394442)]\n"
     ]
    }
   ],
   "source": [
    "#Stating the variables and function of SS with lambdify\n",
    "SS1 = sm.lambdify((n, g, s_H, s_K, a, phi, d, h), SS)\n",
    "\n",
    "#Including the parameters known from macro-theory\n",
    "SSvalue=SS1(0.01, 0.02, 0.2, 0.2, 0.33, 0.33, 0.05, 0.20)\n",
    "\n",
    "#Printing the numerical steady-state values\n",
    "print(SSvalue)"
   ]
  },
  {
   "cell_type": "markdown",
   "metadata": {},
   "source": [
    "By using the analytical method we find the steady-state values for physical capital and human capital. We now show how to find the steady-state value by using the numerical method. \n",
    "\n",
    "Conducting a numerical solution instead of an analytical solution."
   ]
  },
  {
   "cell_type": "code",
   "execution_count": 52,
   "metadata": {},
   "outputs": [
    {
     "data": {
      "image/png": "[encoded data removed]",
      "text/latex": [
       "$\\displaystyle 14.697$"
      ],
      "text/plain": [
       "14.697"
      ]
     },
     "execution_count": 52,
     "metadata": {},
     "output_type": "execute_result"
    }
   ],
   "source": [
    "#We define the parameters with their known values for later use (including the steady-state value of h)\n",
    "n = 0.01\n",
    "g = 0.02\n",
    "s_H = 0.20\n",
    "a = 0.33\n",
    "phi = 0.33\n",
    "d = 0.05\n",
    "h = 14.696788132394442\n",
    "\n",
    "# Defining the steady-state as a lambda function\n",
    "SSN = lambda k: 0 - (1/((1+n)*(1+g)))*((s_H*k**a*h**phi-(n+g+d+n*g)*k))\n",
    "\n",
    "# Using optimize.newton for a numerical solution to our steady-state of k\n",
    "# optimize.newton find the value of k that make the lambda function equal to zero, the newton method use a given starting point x0.\n",
    "result_SSN\n",
    "result_SSN = optimize.newton(SSN,x0=10) \n",
    "np.round(result_SSN,3)"
   ]
  },
  {
   "cell_type": "code",
   "execution_count": 41,
   "metadata": {},
   "outputs": [
    {
     "data": {
      "image/png": "[encoded data removed]",
      "text/latex": [
       "$\\displaystyle 14.697$"
      ],
      "text/plain": [
       "14.697"
      ]
     },
     "execution_count": 41,
     "metadata": {},
     "output_type": "execute_result"
    }
   ],
   "source": [
    "#We do then derive the numerical solution for h knowing the value of k\n",
    "k= 14.696788132394438\n",
    " \n",
    "# Defining the steady-state as a lambda function\n",
    "SSN1 = lambda h: 0 - (1/((1+n)*(1+g)))*((s_H*k**a*h**phi-(n+g+d+n*g)*h))\n",
    "\n",
    "# Using optimize.newton for a numerical solution to our steadystate of h\n",
    "result_SSN1 = optimize.newton(SSN1,x0=100)\n",
    "result_SSN1\n",
    "np.round(result_SSN1,3)"
   ]
  },
  {
   "cell_type": "markdown",
   "metadata": {},
   "source": [
    "The numerical solution of the steady state value takes the Solow equations for both physical capital per effective worker and human capital per effective worker and calculating the steady-state values for capital by starting from an initial x0 value and finding the value that makes the Solow equation equal to zero\n",
    "\n",
    "From the analytical solution we first found the Solow equation and then we found the solution to a system of two equations with two unknowns. In the numerical solution python calculate the steady state value numerically"
   ]
  },
  {
   "cell_type": "markdown",
   "metadata": {},
   "source": [
    "* **Step 5: A Graphical View of the Model:**\n",
    "\n",
    "The phase diagram illustrates a plot of the transitions equation of human capital and physical capital. The orange locus gives all combinations of $h_t$ and $k_t$ such that $h_t$ stays unchanged. Likewise, the blue locus gives all the combinations of $h_t$ and $k_t$ such that $k_t$ stays unchanged. From the graph, we see that the steady-state combination, $k^*$ and $h^*$, is where the curves intercept. This interception is exactly  where $k_t = 14.59$ and $h_t=14.69$ as we calculated above. Furthermore, this indicates that the steady-state fulfills the requirements for balanced growth. Moreover, we see that for every combination of $k_t$ and $h_t$ above the blue curve where $k_{t+1} - k_t > 0$ --> $k_t$ will be increasing and below it, $k_t$ must be decreasing. \n",
    "The other curve follows the same dynamics. To the right of the orange curve $h_{t+1} - h_t > 0$, which means that $h_t$ will be increasing over time while $h_t$ to the left of the orange curve will be decreasing."
   ]
  },
  {
   "cell_type": "code",
   "execution_count": 36,
   "metadata": {},
   "outputs": [
    {
     "data": {
      "image/png": "[encoded data removed]",
      "text/plain": [
       "<Figure size 432x288 with 1 Axes>"
      ]
     },
     "metadata": {
      "needs_background": "light"
     },
     "output_type": "display_data"
    }
   ],
   "source": [
    "# We define the parameter values \n",
    "n = 0.01\n",
    "g = 0.02\n",
    "s_K = 0.20\n",
    "a = 0.33\n",
    "phi =0.33\n",
    "s_H =0.20\n",
    "d =0.05\n",
    "\n",
    "# Setting the axis range to 18\n",
    "k = np.array(range(18))\n",
    "\n",
    "# We state the functions used in the phase diagram\n",
    "h1 = ((((n+g+d+n*g)/(s_K))**(1/phi))*k**((1-a)/phi))\n",
    "h2 = (((s_H*k**a)/(n+g+d+n*g))**(1/(1-phi)))\n",
    "\n",
    "#We plot the x-axis array of k and the functions of h1 and h2\n",
    "plt.plot(k, h1, h2)\n",
    "plt.xlabel('k')\n",
    "plt.ylabel('h')\n",
    "plt.title('Phase Diagram for the Augmented Solow Model with Human Capital') \n",
    "plt.show()"
   ]
  },
  {
   "cell_type": "markdown",
   "metadata": {},
   "source": [
    "From below we see the exact same plot as above. The only difference is, that we now allow the saving rate for physical capital to vary. By simulating the model with a higher savings rate for physical capital, we see that the locus where $k_t$ is unchanged and rotates outwards. The economic reason is that a higher savings rate of physical capital means that people are saving more of their income. This leads to a higher saving per worker, which means that capital per capita will increase. When capital per worker increases, income per worker increases as well."
   ]
  },
  {
   "cell_type": "code",
   "execution_count": 37,
   "metadata": {},
   "outputs": [
    {
     "data": {
      "application/vnd.jupyter.widget-view+json": {
       "model_id": "f3c43ca9aed24408927e0684edc0fb5c",
       "version_major": 2,
       "version_minor": 0
      },
      "text/plain": [
       "interactive(children=(FloatSlider(value=0.2, description='$\\\\ s_K$', max=0.35, min=0.1, step=1e-07), FloatSlid…"
      ]
     },
     "metadata": {},
     "output_type": "display_data"
    }
   ],
   "source": [
    "#Setting a optional s_K value and S_H value in the figure below\n",
    "def phase_dia(s_K,s_H):\n",
    "    \n",
    "# Setting a vector with equal linespace\n",
    "    x_vec = np.linspace(0,50,50)\n",
    "\n",
    "#Defining the phase function of capital and the known variables and parameters\n",
    "    def phasek(k, s_K, a, phi, n):\n",
    "        return ((((n+0.02+0.05+n*0.02)/(s_K))**(1/phi))*k**((1-a)/phi))\n",
    "\n",
    "#Defining the phase function of human capital and the the known variables and parameters\n",
    "    def phaseh(k, s_H, a, phi, n):\n",
    "        return (((s_H*k**a)/(n+0.02+0.05+n*0.02))**(1/(1-phi)))\n",
    "\n",
    "#Figure size, labels, title and known parameters of phasek and phaseh\n",
    "    fig = plt.figure(figsize=(20,5))\n",
    "    phasek1=phasek(x_vec, s_K, a, phi, n)\n",
    "    phaseh1=phaseh(x_vec, s_H, a, phi, n)\n",
    "\n",
    "    plt.grid()\n",
    "    plt.ylim((0,50))\n",
    "    plt.xlim((0,50))\n",
    "    plt.plot(phasek1, linestyle='solid') #man kunne også skrive solid i stedet for dashed\n",
    "    plt.plot(phaseh1, linestyle='solid')\n",
    "    plt.title('Phase Diagram for the Augmented Solow Model with Human Capital')\n",
    "    plt.xlabel(\"Human capital per effective worker\")\n",
    "    plt.ylabel(\"Physical capital per effective worker\");  # dotted red - en kortere måde at skrive det på\n",
    "#Defining the value of s_K as a widget with a float slider bar with a max of one and default value of 0.2\n",
    "widgets.interact(phase_dia,\n",
    "    s_K=widgets.FloatSlider(description=\"$\\\\ s_K$\", min=0.1, max=0.35, step=0.0000001, value=0.20),\n",
    "    s_H=widgets.FloatSlider(description=\"$\\\\ s_H$\", min=0.1, max=0.35, step=0.0000001, value=0.20),\n",
    "                );"
   ]
  },
  {
   "cell_type": "markdown",
   "metadata": {},
   "source": [
    "* **Step 4: The Augmented Solow Model with Human Capital and Natural resources:** \n",
    "We now create a model to investigate the growth in income per worker."
   ]
  },
  {
   "cell_type": "markdown",
   "metadata": {},
   "source": [
    "We now set up our **augmented Solow model with human capital and natural resources**, which is given by the parameters:\n",
    "\n",
    "1. $K_t$ is capital per worker\n",
    "* $L_t$ is labor (with a growth rate on $n$)\n",
    "* $A_t$ is technology (growing with a rate of $g$)\n",
    "* $X_t$ is the total amount of land and it does not carry a time subscript as land is in fixed supply\n",
    "* $R_t$ is the total remaining stock of an exhaustible resource, oil at time t\n",
    "* $E_t$ is the part of $R_t$ that is used as energy input during period t (where the exhaustible rate is $s_E$)\n",
    "* $Y_t = K_t^\\alpha H_t^\\varphi(A_tL_t)^\\beta X^\\kappa E_t^\\epsilon$ is GDP\n",
    "\n",
    "We still have the normal framework for a Solow model such that **Savings** is a constant fraction of GDP and the production function have a constant return to scale. Moreover, we are going to use the following equations to model our framework.\n",
    "\n",
    "8. $R_{t+1} = R_t - E_t$\n",
    "9. $ E_t = s_E R_t$, where $0<s_E<1$\n",
    "\n",
    "Dividing the production function by $L_t$ on both sides and using equation 9, this gives the production function per worker:\n",
    "\n",
    "10. $y_t = k_t^\\alpha h_t^\\varphi A_t^\\beta (X/L_t)^\\kappa ({s_E R_t}/L_t)^\\epsilon $\n",
    "11. $y_t = k_t^\\alpha h_t^\\varphi A_t^\\beta x_t^\\kappa e_t^\\epsilon $\n",
    "By taking logs on both sides we get:\n",
    "11. $ln(y_t) = \\alpha ln(k_t) +\\varphi ln(h_t)+ \\beta ln(A_t)- \\kappa (ln(L_t)-ln(L_{t-1}))+ \\epsilon (((ln(R_t)-ln(R_{t-1}))-(ln(L_t)-ln(L_{t-1}))) = \\alpha ln(k_t) +\\varphi ln(h_t)+ \\beta ln(A_t)- (\\kappa+\\epsilon) (ln(L_t)-ln(L_{t-1}))+ \\epsilon (ln(R_t)-ln(R_{t-1})) $\n",
    "\n",
    "By combinig equation 8 and 9, we get that $ R_{t+1} = R_t - s_E R_t <=> (R_{t+1}/R_t) = s_E + 1 $, and use that $ln(R_t)-ln(R_{t-1})=-ln(s_E+1) =-s_E$, we get that:\n",
    "\n",
    "13. $ln(y_t) = \\alpha ln(k_t) +\\varphi ln(h_t)+ \\beta ln(A_t)- (\\kappa+\\epsilon) n- \\epsilon s_E $\n",
    "\n",
    "We now use the standard approximation that logs differences as a growth rate approximation. Therefore, calculate the time differences on both sides which gives:\n",
    "\n",
    "14. $ln(y_t)-ln(y_{t-1}) = \\alpha (ln(k_t)-ln(k_{t-1})) +\\varphi (ln(h_t)-ln(h_{t-1}))+ \\beta (ln(A_t)-ln(A_{t-1}))- (\\kappa+\\epsilon) n- \\epsilon s_E$\n",
    "\n",
    "We use the approximation that the growth rate for output per worker is $g_y$, the growth rate for technology is g, the growth rate for human capital per worker is $g_h$ and the growth rate in capital per worker is $g_k$. This gives us the following equation:\n",
    "\n",
    "15. $g_y = \\alpha g_k +\\varphi g_h+ \\beta g- (\\kappa+\\epsilon) n- \\epsilon s_E$\n",
    " \n",
    "\n",
    "We know from the Solow model that the two capital/output ratios are constant in steady-state, which is why we use the approximation that both capital and human capital grow at the same rate as $y_t$: $g_y = g_k =g_h$. This gives us the following model:\n",
    "\n",
    "16. $g_y = \\beta / {(1-\\alpha-\\varphi)} g - {(\\kappa+\\epsilon)n} / {(1-\\alpha-\\varphi)} - \\epsilon / {(1-\\alpha-\\varphi)} s_E$\n",
    "\n",
    "We now use that the Solow model with human capital and natural resources exhibit a constant return to scale, which gives us:\n",
    "\n",
    "17. $g_y = \\beta / {(\\beta+\\kappa+\\epsilon)} g - {(\\kappa+\\epsilon)n} / {(\\beta+\\kappa+\\epsilon)} - \\epsilon / {(\\beta+\\kappa+\\epsilon)} s_E$\n",
    "\n",
    "We now have our equation 17, which can tell us how large the growth rate in GDP each country hold depending on the parameters. Therefore, we will first find the parameter values before we continue by finding the growth rate for GDP for different values for growth rate for population and growth rate for technology."
   ]
  },
  {
   "cell_type": "markdown",
   "metadata": {},
   "source": [
    "* **Step 4: Finding parameter values for all parameters that are included in our equation 17:**"
   ]
  },
  {
   "cell_type": "markdown",
   "metadata": {},
   "source": [
    "We use equation (37) from page 205 in the book \"Introducing  Advanced Macroeconomics - Growth and Business Cycles\" by Peter Birk Sørensen and Hans Jørgen Whitta-Jacobsen and augmenting it with human capital. We then get:\n",
    "\n",
    "18. $ln(y_t^*) = \\beta / {(\\beta+\\kappa+\\epsilon)} ln(A_t) + \\epsilon / {(\\beta+\\kappa+\\epsilon)} ln(s_E) + \\alpha / {(\\beta+\\kappa+\\epsilon)} [ln(s_K)-ln(n+0.062)]+ \\varphi / {(\\beta+\\kappa+\\epsilon)} [ln(s_H)-ln(n+0.062)] + \\kappa / {(\\beta+\\kappa+\\epsilon)} ln({X/L_t})+ \\epsilon / {(\\beta+\\kappa+\\epsilon)} ln({R_t/L_t}) $\n",
    "\n",
    "Which gives us the following regression equation:\n",
    "\n",
    "18. $ln(y_{00}^i) = \\gamma_0 + \\gamma_1 [ln(s^i_K)-ln(n^i+0.062)]+ \\gamma_2 [ln(s^i_H)-ln(n^i+0.062)] + \\gamma_3 ln({X/L^i})_{00}+  \\gamma_4 ln({R^i/L^i})_{00} $\n",
    "\n",
    "\n",
    "\n"
   ]
  },
  {
   "cell_type": "code",
   "execution_count": 12,
   "metadata": {},
   "outputs": [
    {
     "name": "stdout",
     "output_type": "stream",
     "text": [
      "Table 5: OLS Results\n",
      "                            OLS Regression Results                            \n",
      "==============================================================================\n",
      "Dep. Variable:                 logy03   R-squared:                       0.747\n",
      "Model:                            OLS   Adj. R-squared:                  0.731\n",
      "Method:                 Least Squares   F-statistic:                     47.14\n",
      "Date:                Sun, 26 May 2019   Prob (F-statistic):           2.08e-18\n",
      "Time:                        22:45:34   Log-Likelihood:                -62.695\n",
      "No. Observations:                  69   AIC:                             135.4\n",
      "Df Residuals:                      64   BIC:                             146.6\n",
      "Df Model:                           4                                         \n",
      "Covariance Type:            nonrobust                                         \n",
      "==============================================================================\n",
      "                 coef    std err          t      P>|t|      [0.025      0.975]\n",
      "------------------------------------------------------------------------------\n",
      "Intercept     -2.6310      1.200     -2.193      0.032      -5.028      -0.234\n",
      "logsK1         0.3933      0.184      2.136      0.037       0.025       0.761\n",
      "logsH1         0.8993      0.141      6.391      0.000       0.618       1.180\n",
      "logland        0.1283      0.143      0.900      0.372      -0.157       0.413\n",
      "logsubsoil     0.0301      0.035      0.867      0.389      -0.039       0.100\n",
      "==============================================================================\n",
      "Omnibus:                        9.462   Durbin-Watson:                   1.651\n",
      "Prob(Omnibus):                  0.009   Jarque-Bera (JB):                9.414\n",
      "Skew:                          -0.887   Prob(JB):                      0.00903\n",
      "Kurtosis:                       3.355   Cond. No.                         178.\n",
      "==============================================================================\n",
      "\n",
      "Warnings:\n",
      "[1] Standard Errors assume that the covariance matrix of the errors is correctly specified.\n"
     ]
    }
   ],
   "source": [
    "#Linear estimation from the dataset imported in cell 2\n",
    "#Restructuring the values into log format\n",
    "logy60=np.log(DataDescribe[\"y60\"])\n",
    "logy03=np.log(DataDescribe[\"y03\"])\n",
    "logn1 =np.log(DataDescribe[\"n\"]+0.075)\n",
    "logsK1=np.log(DataDescribe[\"sK\"]) - logn1\n",
    "logsH1=np.log(DataDescribe[\"sH\"]) - logn1\n",
    "logland =np.log(DataDescribe[\"Land\"])\n",
    "logsubsoil =np.log(DataDescribe[\"Subsoil\"]) \n",
    "\n",
    "# Fit regression model (using the natural log of one of the regressors) from the dataframe called datadescripe \n",
    "results = smf.ols(\"logy03 ~ logsK1 + logsH1 + logland + logsubsoil\", data=DataDescribe).fit()\n",
    "\n",
    "# Inspect the results of log(y03) with the regressors logsK1, logsH1, logland, logsubsoil\n",
    "print(\"Table 5: OLS Results\")\n",
    "print(results.summary())"
   ]
  },
  {
   "cell_type": "markdown",
   "metadata": {},
   "source": [
    "From the regression table above we see that the variables Land and Subsoil are insignificant, meaning we cannot use the coefficients for Land per Worker and Subsoil per Worker to estimate $ \\epsilon $ and $ \\kappa $. They have a P-value on 0.372 and 0.389 respectively. Therefore, we use the coefficients provided by Peter Birk Sørensen and Hans Jørgen Whitta-Jacobsen in the book \"Introducing Advanced Macroeconomics Growth and Business Cycles\" to estimate the growth drags below, the other coefficient is calculated below by using the expression from their book. Moreover, we have that $s_K$ and $s_H $depend positively on the growth in 2003 as we expected."
   ]
  },
  {
   "cell_type": "markdown",
   "metadata": {},
   "source": [
    "We estimate the parameters:\n",
    "\n",
    "* $\\alpha = \\gamma_1/{(1+\\gamma_1+\\gamma_2+\\gamma_3+\\gamma_4)}$\n",
    "* $\\varphi = \\gamma_2/{(1+\\gamma_1+\\gamma_2+\\gamma_3+\\gamma_4)}$\n",
    "* $\\kappa = \\gamma_3/{(1+\\gamma_1+\\gamma_2+\\gamma_3+\\gamma_4)}$\n",
    "* $\\epsilon = \\gamma_4/{(1+\\gamma_1+\\gamma_2+\\gamma_3+\\gamma_4)}$\n",
    "\n",
    "By inserting the estimated values we get:\n",
    "\n",
    "* $\\alpha = 0.3933/{(1+0.3933+0.8993+0.1283+0.0301)} = 0.16 $\n",
    "* $\\varphi = 0.8993/{(1+0.3933+0.8993+0.1283+0.0301)} = 0.37 $\n",
    "* $\\kappa = 0.1283/{(1+0.3933+0.8993+0.1283+0.0301)} = 0.05 $\n",
    "* $\\epsilon = 0.0301/{(1+0.3933+0.8993+0.1283+0.0301)}= 0.01 $\n",
    "\n",
    "We assume that the shares for raw labor and human capital is equal to 0.6, meaning that $\\beta = 0.23$\n",
    "We now continue our Model Project with the shares (the shares for land and oil are not significant so we continue with the shares from the book by Hans Jørgen and Peter Birk:\n",
    "\n",
    "* $\\alpha = 0.2 $\n",
    "* $\\varphi = 0.3 $\n",
    "* $\\kappa = 0.1 $\n",
    "* $\\epsilon = 0.1$\n",
    "* $\\beta = 0.3$\n",
    "\n",
    "We insert the parameters in the growth eq.:"
   ]
  },
  {
   "cell_type": "markdown",
   "metadata": {},
   "source": [
    "* $g_y = 0.3/{(0.3+0.1+0.1)}g - {(0.2)n} / {(0.3+0.1+0.1)} - 0.1 / {(0.3+0.1+0.1)} 0.005$ \n",
    "* $g_y = 0.6g - 0.4n - 0.001$\n",
    "\n",
    "$g_y = \\beta / {(\\beta+\\kappa+\\epsilon)} g - {(\\kappa+\\epsilon)n} / {(\\beta+\\kappa+\\epsilon)} - \\epsilon / {(\\beta+\\kappa+\\epsilon)} s_E$"
   ]
  },
  {
   "cell_type": "code",
   "execution_count": 19,
   "metadata": {},
   "outputs": [
    {
     "data": {
      "image/png": "[encoded data removed]",
      "text/latex": [
       "$\\displaystyle 0 = \\frac{\\beta g}{\\beta + \\epsilon + \\kappa} - \\frac{\\epsilon s_{E}}{\\beta + \\epsilon + \\kappa} - \\frac{n \\left(\\epsilon + \\kappa\\right)}{\\beta + \\epsilon + \\kappa}$"
      ],
      "text/plain": [
       "       β⋅g        ε⋅s_E     n⋅(ε + κ)\n",
       "0 = ───────── - ───────── - ─────────\n",
       "    β + ε + κ   β + ε + κ   β + ε + κ"
      ]
     },
     "execution_count": 19,
     "metadata": {},
     "output_type": "execute_result"
    }
   ],
   "source": [
    "#Defining the symbols from sympy\n",
    "b = sm.symbols(\"beta\")\n",
    "g = sm.symbols(\"g\")\n",
    "n = sm.symbols(\"n\")\n",
    "k = sm.symbols(\"kappa\")\n",
    "e = sm.symbols(\"epsilon\")\n",
    "g_y = sm.symbols(\"g_y\")\n",
    "s_K = sm.symbols(\"s_K\")\n",
    "s_H = sm.symbols(\"s_H\")\n",
    "s_E = sm.symbols(\"s_E\")\n",
    "\n",
    "#Stating the growth equation as a sympy equation \n",
    "growth = sm.Eq(0, (b/(b+k+e)*g)-(k+e)*n/(b+k+e)-e/(b+k+e)*s_E)\n",
    "#Print the equation\n",
    "growth\n",
    "    "
   ]
  },
  {
   "cell_type": "markdown",
   "metadata": {},
   "source": [
    "The function above is shows all the combinations of growth in tecnology and grwoth in population that gives a growth in income per worker equal to zero. We use this function below to investigate at what level the  growth rate in technology has to be, to offset the growth drag from the population growth rate"
   ]
  },
  {
   "cell_type": "code",
   "execution_count": 20,
   "metadata": {},
   "outputs": [
    {
     "data": {
      "image/png": "[encoded data removed]",
      "text/latex": [
       "$\\displaystyle \\left[ \\frac{\\epsilon n + \\epsilon s_{E} + \\kappa n}{\\beta}\\right]$"
      ],
      "text/plain": [
       "⎡ε⋅n + ε⋅s_E + κ⋅n⎤\n",
       "⎢─────────────────⎥\n",
       "⎣        β        ⎦"
      ]
     },
     "execution_count": 20,
     "metadata": {},
     "output_type": "execute_result"
    }
   ],
   "source": [
    "#Solve for the growth rate in technology\n",
    "growth1 = sm.solve(growth, g)\n",
    "#Print the solution of g\n",
    "growth1"
   ]
  },
  {
   "cell_type": "markdown",
   "metadata": {},
   "source": [
    "Below we are plotting the above function, which shows the growth rate in technology as a function of the growth rate in the population and the externalities from the other variables."
   ]
  },
  {
   "cell_type": "code",
   "execution_count": 23,
   "metadata": {},
   "outputs": [
    {
     "data": {
      "application/vnd.jupyter.widget-view+json": {
       "model_id": "f2c6e8ecc9af4281984818be4761d6e4",
       "version_major": 2,
       "version_minor": 0
      },
      "text/plain": [
       "interactive(children=(FloatSlider(value=0.1, description='$\\\\ s_E$', max=0.2, min=0.1, step=1e-07), FloatSlide…"
      ]
     },
     "metadata": {},
     "output_type": "display_data"
    }
   ],
   "source": [
    "#Define the new symbols with sympy\n",
    "b = sm.symbols(\"beta\")\n",
    "g = sm.symbols(\"g\")\n",
    "n = sm.symbols(\"n\")\n",
    "s_E = sm.symbols(\"s_E\")\n",
    "e = sm.symbols(\"epsilon\")\n",
    "k = sm.symbols(\"kappa\")\n",
    "\n",
    "#Define the plot settings with the variables of s_E, b, e, k.\n",
    "def dia3(s_E, b, e, k):\n",
    "\n",
    "#Define the growthh function with the variables and parameters n, e, s_E, b, k.\n",
    "    def growthh(n, e, s_E, b, k):\n",
    "        return ((e*n+e*s_E+k*n)/b)\n",
    "\n",
    "#Setting a vector with equal linespace\n",
    "    x_vec1 = np.linspace(0,50,50)\n",
    "\n",
    "\n",
    "    #Setting the plotted function as the growthh function with the unknown variables of x_vec1, s_E, e, b and k\n",
    "    growthh1=growthh(x_vec1, s_E, e, b, k)\n",
    "    \n",
    "    fig2 = plt.figure(figsize=(20,5))\n",
    "    plt.grid()\n",
    "    plt.ylim((0,0.1))\n",
    "    plt.xlim((0,0.1))\n",
    "    plt.plot(growthh1, linestyle='solid') #man kunne også skrive solid i stedet for dashed\n",
    "    plt.title('Growth')\n",
    "    plt.xlabel(\"Population growth rate\")\n",
    "    plt.ylabel(\"Growth rate in technology\");\n",
    "\n",
    "#The optional variables are then defined as float sliders with default values\n",
    "widgets.interact(dia3, \n",
    "    s_E=widgets.FloatSlider(description=\"$\\\\ s_E$\", min=0.1, max=0.2, step=0.0000001, value=0.03),\n",
    "    b=widgets.FloatSlider(description=\"$ \\\\beta $\", min=0.1, max=0.8, step=0.0000001, value=0.66),\n",
    "    e=widgets.FloatSlider(description=\"$ \\\\epsilon  $\", min=0.1, max=0.2, step=0.0000001, value=0.1),\n",
    "    k=widgets.FloatSlider(description=\"$ \\kappa $\", min=0.1, max=0.2, step=0.0000001, value=0.1),\n",
    "  \n",
    "                );\n"
   ]
  },
  {
   "cell_type": "markdown",
   "metadata": {},
   "source": [
    "This graph plots the growth in technology in the y-axis and population growth on the x-axis. Along the plotted line, we have that the long run growth rate in income per worker is exactly zero. If we are in a point above the plotted line we have that the growth rate in technology is high enough to compensate from the growth drag form Land, Oil, and, Population. Moreover, if we are in a point below the plotted line we have that the growth rate in technology is not high enough to compensate from the growth drag meaning that the long run growth rate in income per worker will be negative. We can move the interactive graph and see that a higher epsilon and kappa will lead to a higher growth drag meaning that the growth rate in technology has to be higher to compensate from the growth drag.\n",
    "\n",
    "If we have the default parameter values above, we see that if the growth rate in population is around 3-4% which is not impossible for at devoloping country, then the country would need a growth rate in technology of atleast 2-3% before getting a $g_Y$ higher than zero, but the country would need a growth rate in technology on 4-5% to get a growth rate in income per worker sufficient higher than zero. "
   ]
  },
  {
   "cell_type": "markdown",
   "metadata": {},
   "source": [
    "# References\n",
    "* Whitta-Jacobsen, Hans Jørgen & Soernsen, Peter Birch. (2010): Introducing Advanced Macroeconomics: Growth and Business Cycles, McGraw-Hill Higher Education"
   ]
  }
 ],
 "metadata": {
  "kernelspec": {
   "display_name": "Python 3",
   "language": "python",
   "name": "python3"
  },
  "language_info": {
   "codemirror_mode": {
    "name": "ipython",
    "version": 3
   },
   "file_extension": ".py",
   "mimetype": "text/x-python",
   "name": "python",
   "nbconvert_exporter": "python",
   "pygments_lexer": "ipython3",
   "version": "3.7.1"
  }
 },
 "nbformat": 4,
 "nbformat_minor": 2
}
