{
 "cells": [
  {
   "cell_type": "markdown",
   "metadata": {},
   "source": [
    "## Import of all packages\n",
    "First we do a import of all the packages so we can use all the functions"
   ]
  },
  {
   "cell_type": "code",
   "execution_count": 3,
   "metadata": {},
   "outputs": [],
   "source": [
    "import os\n",
    "import glob\n",
    "import pandas as pd\n",
    "import matplotlib.pyplot as plt\n",
    "import numpy as np\n",
    "import statsmodels.api as sm\n",
    "import statsmodels.formula.api as smf\n",
    "\n",
    "from pandas import DataFrame as df\n",
    "from scipy.stats import trim_mean, kurtosis\n",
    "from scipy.stats.mstats import mode, gmean, hmean"
   ]
  },
  {
   "cell_type": "markdown",
   "metadata": {},
   "source": [
    "# Tennis "
   ]
  },
  {
   "cell_type": "markdown",
   "metadata": {},
   "source": [
    "## Constructing a subset of the raw tennis dataset such that we can use it for our analysis"
   ]
  },
  {
   "cell_type": "code",
   "execution_count": 8,
   "metadata": {},
   "outputs": [
    {
     "data": {
      "text/html": [
       "<div>\n",
       "<style scoped>\n",
       "    .dataframe tbody tr th:only-of-type {\n",
       "        vertical-align: middle;\n",
       "    }\n",
       "\n",
       "    .dataframe tbody tr th {\n",
       "        vertical-align: top;\n",
       "    }\n",
       "\n",
       "    .dataframe thead th {\n",
       "        text-align: right;\n",
       "    }\n",
       "</style>\n",
       "<table border=\"1\" class=\"dataframe\">\n",
       "  <thead>\n",
       "    <tr style=\"text-align: right;\">\n",
       "      <th></th>\n",
       "      <th>tourney_id</th>\n",
       "      <th>tourney_name</th>\n",
       "      <th>surface</th>\n",
       "      <th>draw_size</th>\n",
       "      <th>winner_ht</th>\n",
       "      <th>winner_age</th>\n",
       "      <th>winner_rank</th>\n",
       "      <th>winner_rank_points</th>\n",
       "    </tr>\n",
       "  </thead>\n",
       "  <tbody>\n",
       "    <tr>\n",
       "      <th>0</th>\n",
       "      <td>2008-338</td>\n",
       "      <td>Sydney</td>\n",
       "      <td>Hard</td>\n",
       "      <td>32</td>\n",
       "      <td>185.0</td>\n",
       "      <td>21.555099</td>\n",
       "      <td>8.0</td>\n",
       "      <td>1930.0</td>\n",
       "    </tr>\n",
       "    <tr>\n",
       "      <th>1</th>\n",
       "      <td>2008-338</td>\n",
       "      <td>Sydney</td>\n",
       "      <td>Hard</td>\n",
       "      <td>32</td>\n",
       "      <td>185.0</td>\n",
       "      <td>25.070500</td>\n",
       "      <td>35.0</td>\n",
       "      <td>853.0</td>\n",
       "    </tr>\n",
       "    <tr>\n",
       "      <th>2</th>\n",
       "      <td>2008-338</td>\n",
       "      <td>Sydney</td>\n",
       "      <td>Hard</td>\n",
       "      <td>32</td>\n",
       "      <td>175.0</td>\n",
       "      <td>29.609856</td>\n",
       "      <td>51.0</td>\n",
       "      <td>621.0</td>\n",
       "    </tr>\n",
       "    <tr>\n",
       "      <th>3</th>\n",
       "      <td>2008-338</td>\n",
       "      <td>Sydney</td>\n",
       "      <td>Hard</td>\n",
       "      <td>32</td>\n",
       "      <td>188.0</td>\n",
       "      <td>24.145106</td>\n",
       "      <td>27.0</td>\n",
       "      <td>1050.0</td>\n",
       "    </tr>\n",
       "    <tr>\n",
       "      <th>4</th>\n",
       "      <td>2008-338</td>\n",
       "      <td>Sydney</td>\n",
       "      <td>Hard</td>\n",
       "      <td>32</td>\n",
       "      <td>178.0</td>\n",
       "      <td>35.077344</td>\n",
       "      <td>37.0</td>\n",
       "      <td>792.0</td>\n",
       "    </tr>\n",
       "  </tbody>\n",
       "</table>\n",
       "</div>"
      ],
      "text/plain": [
       "  tourney_id tourney_name surface draw_size  winner_ht  winner_age  \\\n",
       "0   2008-338       Sydney    Hard        32      185.0   21.555099   \n",
       "1   2008-338       Sydney    Hard        32      185.0   25.070500   \n",
       "2   2008-338       Sydney    Hard        32      175.0   29.609856   \n",
       "3   2008-338       Sydney    Hard        32      188.0   24.145106   \n",
       "4   2008-338       Sydney    Hard        32      178.0   35.077344   \n",
       "\n",
       "   winner_rank  winner_rank_points  \n",
       "0          8.0              1930.0  \n",
       "1         35.0               853.0  \n",
       "2         51.0               621.0  \n",
       "3         27.0              1050.0  \n",
       "4         37.0               792.0  "
      ]
     },
     "execution_count": 8,
     "metadata": {},
     "output_type": "execute_result"
    }
   ],
   "source": [
    "#os.chdir(\"Dataset/atp-matches-dataset/\")\n",
    "\n",
    "#hvis filen vi danner i forvejen findes slettes den så der kan køres en ny\n",
    "if os.path.exists(\"Dataset/atp-matches-dataset/Tennis_mod.csv\"):\n",
    "    os.remove(\"Dataset/atp-matches-dataset/Tennis_mod.csv\")\n",
    "else:\n",
    "    print('File does not exists')\n",
    "\n",
    "#alle filer med format csv medtages og samles i tennis_total\n",
    "extension = 'csv'\n",
    "all_filenames = [i for i in glob.glob('Dataset/atp-matches-dataset/*.{}'.format(extension))]\n",
    "Tennis_total = pd.concat([pd.read_csv(f) for f in all_filenames ])\n",
    "\n",
    "#Vælger hvilke kolonner i tennis_total vi vil have med og danner det endelige dataset Tennis_mod\n",
    "keep_col = ['tourney_id','tourney_name','surface','draw_size','winner_ht', 'winner_age', 'winner_rank', 'winner_rank_points'] \n",
    "Tennis_mod=Tennis_total[keep_col]\n",
    "\n",
    "filter = Tennis_mod[\"tourney_id\"] != \"\"\n",
    "Tennis_mod = Tennis_mod[filter]\n",
    "filter = Tennis_mod[\"tourney_name\"] != \"\"\n",
    "Tennis_mod = Tennis_mod[filter]\n",
    "filter = Tennis_mod[\"surface\"] != \"\"\n",
    "Tennis_mod = Tennis_mod[filter]\n",
    "filter = Tennis_mod[\"draw_size\"] != 0\n",
    "Tennis_mod = Tennis_mod[filter]\n",
    "filter = Tennis_mod[\"winner_ht\"] != 0\n",
    "Tennis_mod = Tennis_mod[filter]\n",
    "filter = Tennis_mod[\"winner_age\"] != 0\n",
    "Tennis_mod = Tennis_mod[filter]\n",
    "filter = Tennis_mod[\"winner_rank\"] != 0\n",
    "Tennis_mod = Tennis_mod[filter]\n",
    "filter = Tennis_mod[\"winner_rank_points\"] != 0\n",
    "Tennis_mod = Tennis_mod[filter]\n",
    "\n",
    "#Laver tennis_mod til csv som gemmes i samme mappe med stien\n",
    "Tennis_mod.to_csv( \"Dataset/atp-matches-dataset/Tennis_mod.csv\", index=False, encoding='utf-8-sig')\n",
    "\n",
    "#et stk. printet samlet tabel\n",
    "Tennis_mod.head()"
   ]
  },
  {
   "cell_type": "code",
   "execution_count": null,
   "metadata": {},
   "outputs": [],
   "source": []
  },
  {
   "cell_type": "markdown",
   "metadata": {},
   "source": [
    "## A short descriptive introduction the the dataset"
   ]
  }
 ],
 "metadata": {
  "kernelspec": {
   "display_name": "Python 3",
   "language": "python",
   "name": "python3"
  },
  "language_info": {
   "codemirror_mode": {
    "name": "ipython",
    "version": 3
   },
   "file_extension": ".py",
   "mimetype": "text/x-python",
   "name": "python",
   "nbconvert_exporter": "python",
   "pygments_lexer": "ipython3",
   "version": "3.7.1"
  }
 },
 "nbformat": 4,
 "nbformat_minor": 2
}
